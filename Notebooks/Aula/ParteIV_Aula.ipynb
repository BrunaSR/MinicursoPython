{
  "nbformat": 4,
  "nbformat_minor": 0,
  "metadata": {
    "colab": {
      "name": "ParteIV-Aula.ipynb",
      "provenance": [],
      "collapsed_sections": [
        "rjpaDed9Jdel",
        "qkV9gZvgKUe2"
      ],
      "authorship_tag": "ABX9TyPssKJFs9GO5TQHDiGEHaqR",
      "include_colab_link": true
    },
    "kernelspec": {
      "name": "python3",
      "display_name": "Python 3"
    },
    "language_info": {
      "name": "python"
    }
  },
  "cells": [
    {
      "cell_type": "markdown",
      "metadata": {
        "id": "view-in-github",
        "colab_type": "text"
      },
      "source": [
        "<a href=\"https://colab.research.google.com/github/BrunaSR/MinicursoPython/blob/main/Notebooks/Aula/ParteIV_Aula.ipynb\" target=\"_parent\"><img src=\"https://colab.research.google.com/assets/colab-badge.svg\" alt=\"Open In Colab\"/></a>"
      ]
    },
    {
      "cell_type": "markdown",
      "metadata": {
        "id": "VzDADQc96zBU"
      },
      "source": [
        "# Minicurso Python Parte IV\n",
        "\n",
        "Esse notebook apresenta exemplos e exercícios sobre a biblioteca Numpy"
      ]
    },
    {
      "cell_type": "markdown",
      "metadata": {
        "id": "0bXOIcjA-9-7"
      },
      "source": [
        "# Como criar um array"
      ]
    },
    {
      "cell_type": "code",
      "metadata": {
        "id": "kiJlFrya6yPf"
      },
      "source": [
        "# Importação da biblioteca\n",
        "import numpy as np"
      ],
      "execution_count": 35,
      "outputs": []
    },
    {
      "cell_type": "markdown",
      "metadata": {
        "id": "WuQthidqBbPK"
      },
      "source": [
        "### Vetores"
      ]
    },
    {
      "cell_type": "code",
      "metadata": {
        "colab": {
          "base_uri": "https://localhost:8080/"
        },
        "id": "FMyODQQVBWGr",
        "outputId": "4a0da0cf-018d-4f47-fb93-3c999dcb4e04"
      },
      "source": [
        "# Criação de um vetor a partir de uma lista"
      ],
      "execution_count": 2,
      "outputs": [
        {
          "output_type": "stream",
          "text": [
            "Meu primeiro array com numpy =  [1 2 3 4 5]\n",
            "<class 'numpy.ndarray'>\n"
          ],
          "name": "stdout"
        }
      ]
    },
    {
      "cell_type": "code",
      "metadata": {
        "colab": {
          "base_uri": "https://localhost:8080/"
        },
        "id": "dAc0x-sNBWS6",
        "outputId": "a231095e-9a0c-479b-f52d-d7e90be98b80"
      },
      "source": [
        "# Informações de um array"
      ],
      "execution_count": 4,
      "outputs": [
        {
          "output_type": "stream",
          "text": [
            "Quantidade de elementos =  5\n",
            "Shape =  (5,)\n",
            "Dimensões =  1\n",
            "Tipos de dados do vetor =  int64\n"
          ],
          "name": "stdout"
        }
      ]
    },
    {
      "cell_type": "code",
      "metadata": {
        "colab": {
          "base_uri": "https://localhost:8080/"
        },
        "id": "VJzeuN8qDyzO",
        "outputId": "47288ac1-fe9d-4b42-8e3e-86eaa78dba3c"
      },
      "source": [
        "# Acesso aos elementos de um array unidimensional"
      ],
      "execution_count": 3,
      "outputs": [
        {
          "output_type": "stream",
          "text": [
            "O segundo elemento do meu vetor é =  2\n",
            "Os 3 últimos elementos são =  [3 4 5]\n",
            "O segundo terceiro e quarto elementos são =  [2 3]\n"
          ],
          "name": "stdout"
        }
      ]
    },
    {
      "cell_type": "markdown",
      "metadata": {
        "id": "zbwt1GkzCJPf"
      },
      "source": [
        "### Matrizes"
      ]
    },
    {
      "cell_type": "code",
      "metadata": {
        "colab": {
          "base_uri": "https://localhost:8080/"
        },
        "id": "IZRROuhUBWY6",
        "outputId": "aa5745fe-f38b-4ef7-b6ed-90fde72913f1"
      },
      "source": [
        "# Criação de uma matriz a partir de uma lista de listas"
      ],
      "execution_count": 49,
      "outputs": [
        {
          "output_type": "stream",
          "text": [
            "Minha matriz = \n",
            " [[1 2]\n",
            " [3 4]]\n",
            "Shape =  (2, 2)\n"
          ],
          "name": "stdout"
        }
      ]
    },
    {
      "cell_type": "code",
      "metadata": {
        "colab": {
          "base_uri": "https://localhost:8080/"
        },
        "id": "uHy2jkw7BWbi",
        "outputId": "e9ec9fa0-d2ec-409d-a15a-a5a7b384a784"
      },
      "source": [
        "# Acesso aos elementos de um array multidimensional"
      ],
      "execution_count": 6,
      "outputs": [
        {
          "output_type": "stream",
          "text": [
            "Primeira linha da matriz =  [1 2]\n",
            "Primeiro elemento da primeira linha =  1\n",
            "Primeiro elemento da segunda linha =  3\n"
          ],
          "name": "stdout"
        }
      ]
    },
    {
      "cell_type": "markdown",
      "metadata": {
        "id": "9uot5Az38ssG"
      },
      "source": [
        "### Alterando elementos\n"
      ]
    },
    {
      "cell_type": "code",
      "metadata": {
        "id": "C-JwFDGu8wjc",
        "colab": {
          "base_uri": "https://localhost:8080/"
        },
        "outputId": "0e426824-a5ea-43f4-e255-24f37e96a2c2"
      },
      "source": [
        "# Alterar o elemento de um array\n",
        "# Exemplo vetor\n",
        "\n",
        "# Exemplo matriz"
      ],
      "execution_count": 7,
      "outputs": [
        {
          "output_type": "stream",
          "text": [
            "Vetor original =  [1 2 3 4 5]\n",
            "Primeiro elemento alterado =  [10  2  3  4  5]\n",
            "Matriz original = \n",
            " [[1 2]\n",
            " [3 4]]\n",
            "Último elemento da segunda linha da matriz alterado =  [[ 1  2]\n",
            " [ 3 40]]\n"
          ],
          "name": "stdout"
        }
      ]
    },
    {
      "cell_type": "markdown",
      "metadata": {
        "id": "_sjz_vPDGEIt"
      },
      "source": [
        "### Funções para criação de arrays"
      ]
    },
    {
      "cell_type": "code",
      "metadata": {
        "colab": {
          "base_uri": "https://localhost:8080/"
        },
        "id": "7t9CQJ8vGLaS",
        "outputId": "bc229bf0-2dd0-40ab-8cef-e6d9e29be6fd"
      },
      "source": [
        "# Matriz 3x4 vazia"
      ],
      "execution_count": 8,
      "outputs": [
        {
          "output_type": "stream",
          "text": [
            "[[4.64267167e-310 4.64267285e-310 3.95252517e-323 4.64267285e-310]\n",
            " [3.95252517e-323 4.64267285e-310 4.44659081e-323 0.00000000e+000]\n",
            " [4.64267285e-310 4.64267285e-310 4.64267285e-310 0.00000000e+000]]\n"
          ],
          "name": "stdout"
        }
      ]
    },
    {
      "cell_type": "code",
      "metadata": {
        "colab": {
          "base_uri": "https://localhost:8080/"
        },
        "id": "XRTZ0a5aGLpa",
        "outputId": "09f59942-4258-4517-9c7d-0f1e7b41368b"
      },
      "source": [
        "# Vetor coluna com zeros"
      ],
      "execution_count": 9,
      "outputs": [
        {
          "output_type": "stream",
          "text": [
            "[[0.]\n",
            " [0.]\n",
            " [0.]\n",
            " [0.]\n",
            " [0.]\n",
            " [0.]]\n"
          ],
          "name": "stdout"
        }
      ]
    },
    {
      "cell_type": "code",
      "metadata": {
        "colab": {
          "base_uri": "https://localhost:8080/"
        },
        "id": "ISc2ghMHGLsx",
        "outputId": "8d7cf443-b71c-4917-d463-e36a716e5a09"
      },
      "source": [
        "# Vetor linha de valor 1"
      ],
      "execution_count": 10,
      "outputs": [
        {
          "output_type": "stream",
          "text": [
            "[[1. 1. 1. 1. 1. 1.]]\n"
          ],
          "name": "stdout"
        }
      ]
    },
    {
      "cell_type": "code",
      "metadata": {
        "colab": {
          "base_uri": "https://localhost:8080/"
        },
        "id": "VoPDfp2dGLwa",
        "outputId": "2b8bd5aa-f62e-4a9c-ea39-b1c4174f7db4"
      },
      "source": [
        "# Vetor com valores igualmente espaçados dentro de um intervalo"
      ],
      "execution_count": 11,
      "outputs": [
        {
          "output_type": "stream",
          "text": [
            "[0.         0.07142857 0.14285714 0.21428571 0.28571429 0.35714286\n",
            " 0.42857143 0.5        0.57142857 0.64285714 0.71428571 0.78571429\n",
            " 0.85714286 0.92857143 1.        ]\n"
          ],
          "name": "stdout"
        }
      ]
    },
    {
      "cell_type": "code",
      "metadata": {
        "colab": {
          "base_uri": "https://localhost:8080/"
        },
        "id": "WnvVZVQEJVQe",
        "outputId": "1f0b6fbe-dbc6-4db6-ea3a-cab2789f3f49"
      },
      "source": [
        "# Vetor com valores dentro de um intervalo com passo igual 2"
      ],
      "execution_count": 12,
      "outputs": [
        {
          "output_type": "stream",
          "text": [
            "Pares de 1 a 10 =  [ 2  4  6  8 10]\n"
          ],
          "name": "stdout"
        }
      ]
    },
    {
      "cell_type": "markdown",
      "metadata": {
        "id": "wUXrU7bTJ1PQ"
      },
      "source": [
        "### Variáveis aleatórias"
      ]
    },
    {
      "cell_type": "code",
      "metadata": {
        "colab": {
          "base_uri": "https://localhost:8080/"
        },
        "id": "zn7s1br2J0dq",
        "outputId": "dca4b6ee-7305-4aad-b46d-596efe3f957e"
      },
      "source": [
        "# Valores aleatórios de uma distribuição uniforme dentro do intervalo [0,1)"
      ],
      "execution_count": 13,
      "outputs": [
        {
          "output_type": "stream",
          "text": [
            "[0.30974661 0.99522831 0.58435177 0.43609707 0.16183526 0.66676003\n",
            " 0.51639393 0.09818761 0.47328499 0.37730236]\n"
          ],
          "name": "stdout"
        }
      ]
    },
    {
      "cell_type": "code",
      "metadata": {
        "colab": {
          "base_uri": "https://localhost:8080/"
        },
        "id": "lLZ3wKvBMpwi",
        "outputId": "94ae4975-ac03-41df-b42d-0ecafd7bc8b0"
      },
      "source": [
        "# Valores aleatórios inteiros de uma distribuição uniforme dentro do intervalo "
      ],
      "execution_count": 36,
      "outputs": [
        {
          "output_type": "stream",
          "text": [
            "[[1 1 3]\n",
            " [4 0 1]]\n"
          ],
          "name": "stdout"
        }
      ]
    },
    {
      "cell_type": "code",
      "metadata": {
        "colab": {
          "base_uri": "https://localhost:8080/"
        },
        "id": "4gVhBSNtLeLa",
        "outputId": "f57b5503-6701-4412-e72e-668b9c579d67"
      },
      "source": [
        "# Valores aleatórios de uma distribuição normal padrão "
      ],
      "execution_count": 15,
      "outputs": [
        {
          "output_type": "stream",
          "text": [
            "[[ 0.09143957  0.28975565 -1.30899325]\n",
            " [ 0.14526942 -1.09427728 -1.05974819]]\n"
          ],
          "name": "stdout"
        }
      ]
    },
    {
      "cell_type": "markdown",
      "metadata": {
        "id": "AxWz7uqRM8ZB"
      },
      "source": [
        "### Operações com os arrays"
      ]
    },
    {
      "cell_type": "code",
      "metadata": {
        "colab": {
          "base_uri": "https://localhost:8080/"
        },
        "id": "Yxy3ABjAMIwl",
        "outputId": "d38144ef-60d9-4311-b252-f65b199aa43c"
      },
      "source": [
        "# Operações entre um número e uma array"
      ],
      "execution_count": 16,
      "outputs": [
        {
          "output_type": "stream",
          "text": [
            "Soma = \n",
            " [[3 4 5]\n",
            " [6 7 8]]\n",
            "\n",
            "Subtração = \n",
            " [[-1  0  1]\n",
            " [ 2  3  4]]\n",
            "\n",
            "Divisão = \n",
            " [[0.5 1.  1.5]\n",
            " [2.  2.5 3. ]]\n",
            "\n",
            "Multiplicação = \n",
            " [[ 2  4  6]\n",
            " [ 8 10 12]]\n"
          ],
          "name": "stdout"
        }
      ]
    },
    {
      "cell_type": "code",
      "metadata": {
        "colab": {
          "base_uri": "https://localhost:8080/"
        },
        "id": "2ZKDEXrmNuRj",
        "outputId": "7584b4b1-06ee-4613-dcc0-910fca81f3d5"
      },
      "source": [
        "# Operações com matrizes"
      ],
      "execution_count": 17,
      "outputs": [
        {
          "output_type": "stream",
          "text": [
            "Matriz 1 = \n",
            " [[2 3]\n",
            " [1 5]]\n",
            "\n",
            "Matriz 2 = \n",
            " [[4. 4.]\n",
            " [4. 4.]]\n",
            "\n",
            "Multiplicação elemento por elemento de duas matrizes = \n",
            " [[ 8. 12.]\n",
            " [ 4. 20.]]\n",
            "\n",
            "Multiplicação matricial = \n",
            " [[20. 20.]\n",
            " [24. 24.]]\n",
            "\n",
            "Multiplicação matricial = \n",
            " [[20. 20.]\n",
            " [24. 24.]]\n"
          ],
          "name": "stdout"
        }
      ]
    },
    {
      "cell_type": "code",
      "metadata": {
        "colab": {
          "base_uri": "https://localhost:8080/"
        },
        "id": "esNOSSJJEK6C",
        "outputId": "491fbdb7-40d4-4a37-9882-a91b9a010633"
      },
      "source": [
        "# Matriz transposta"
      ],
      "execution_count": 46,
      "outputs": [
        {
          "output_type": "stream",
          "text": [
            "Matriz, transposta = \n",
            " [[2 1]\n",
            " [3 5]]\n"
          ],
          "name": "stdout"
        }
      ]
    },
    {
      "cell_type": "code",
      "metadata": {
        "colab": {
          "base_uri": "https://localhost:8080/"
        },
        "id": "vaLHZ8rjD7MC",
        "outputId": "16f40bce-9788-47ed-8554-1131e805dc11"
      },
      "source": [
        "# Cálculo da matriz inversa"
      ],
      "execution_count": 47,
      "outputs": [
        {
          "output_type": "stream",
          "text": [
            "Matriz inversa = \n",
            " [[ 0.71428571 -0.42857143]\n",
            " [-0.14285714  0.28571429]]\n"
          ],
          "name": "stdout"
        }
      ]
    },
    {
      "cell_type": "markdown",
      "metadata": {
        "id": "TKGTz40gVoFR"
      },
      "source": [
        "### Funções importantes"
      ]
    },
    {
      "cell_type": "code",
      "metadata": {
        "colab": {
          "base_uri": "https://localhost:8080/"
        },
        "id": "COtqEVGRPMTd",
        "outputId": "0d829d89-0af9-4934-b4b4-6f0aeb0d678a"
      },
      "source": [
        "# Redimensionar um array\n",
        "vetor = [True, False, False, True, True, False]"
      ],
      "execution_count": 20,
      "outputs": [
        {
          "output_type": "stream",
          "text": [
            "Array original =  [ True False False  True  True  True]\n",
            "Array modificado = \n",
            " [[ True False]\n",
            " [False  True]\n",
            " [ True  True]]\n"
          ],
          "name": "stdout"
        }
      ]
    },
    {
      "cell_type": "code",
      "metadata": {
        "colab": {
          "base_uri": "https://localhost:8080/"
        },
        "id": "yK6rS5UUZGgH",
        "outputId": "8a8e1f02-ef57-49c2-fcf9-7276258307f1"
      },
      "source": [
        "# Copiar um array\n",
        "\n",
        "# Modificando vetor 2\n",
        "\n",
        "# Verificando o vetor original\n",
        "\n",
        "# Utilizando np.copy()\n",
        "print('\\n' + '-'*20 + 'Utilizando np.copy()' + '-'*20)\n",
        "\n",
        "# Modificando vetor 3\n",
        "\n",
        "# Verificando o vetor original"
      ],
      "execution_count": 21,
      "outputs": [
        {
          "output_type": "stream",
          "text": [
            "Vetor 1 =  [[1. 1. 1. 1. 1. 1.]]\n",
            "\n",
            "Vetor 2 =  [1. 1. 1.]\n",
            "\n",
            "Vetor 2 modificado =  [5. 1. 1.]\n",
            "\n",
            "Verificando o vetor original =  [[5. 1. 1. 1. 1. 1.]]\n",
            "\n",
            "--------------------Utilizando np.copy()--------------------\n",
            "\n",
            "Vetor 3 =  [5. 1. 1.]\n",
            "\n",
            "Vetor 3 modificado =  [ 5.  1. 33.]\n",
            "\n",
            "Verificando o vetor original =  [[5. 1. 1. 1. 1. 1.]]\n"
          ],
          "name": "stdout"
        }
      ]
    },
    {
      "cell_type": "code",
      "metadata": {
        "colab": {
          "base_uri": "https://localhost:8080/"
        },
        "id": "wt1f530zeulV",
        "outputId": "c0cb0a96-543f-4bba-cead-de6de389b93b"
      },
      "source": [
        "# Soma de elementos"
      ],
      "execution_count": 22,
      "outputs": [
        {
          "output_type": "stream",
          "text": [
            "Soma das colunas =  [5 7 9]\n",
            "Soma das linhas =  [ 6 15]\n",
            "Soma de todos os elementos =  21\n"
          ],
          "name": "stdout"
        }
      ]
    },
    {
      "cell_type": "code",
      "metadata": {
        "colab": {
          "base_uri": "https://localhost:8080/"
        },
        "id": "bno_b7-7fYs-",
        "outputId": "af344c3c-b839-43fd-dd65-b99b27d5e563"
      },
      "source": [
        "# Algumas estatísticas\n"
      ],
      "execution_count": 23,
      "outputs": [
        {
          "output_type": "stream",
          "text": [
            "Desvio padrão =  1.707825127659933\n",
            "Média =  3.5\n",
            "Variância =  2.9166666666666665\n"
          ],
          "name": "stdout"
        }
      ]
    },
    {
      "cell_type": "code",
      "metadata": {
        "colab": {
          "base_uri": "https://localhost:8080/"
        },
        "id": "CHmsGEWZ-RG9",
        "outputId": "c2a04a62-4dc1-4901-c0e5-2021c4eff3f4"
      },
      "source": [
        "# Concatenação de vetores\n",
        "x1 = np.arange(0, 10, 2).reshape((-1, 1))\n",
        "x2 = np.arange(1, 11, 2).reshape((-1, 1))\n",
        "\n",
        "# Juntando as colunas\n",
        "#x3 = np.c_[x1, x2]\n",
        "\n",
        "\n",
        "# Concatenação por linhas\n"
      ],
      "execution_count": 24,
      "outputs": [
        {
          "output_type": "stream",
          "text": [
            "x1 = \n",
            " [[0]\n",
            " [2]\n",
            " [4]\n",
            " [6]\n",
            " [8]]\n",
            "x2 = \n",
            " [[1]\n",
            " [3]\n",
            " [5]\n",
            " [7]\n",
            " [9]]\n",
            "Concatenando coluna = \n",
            " [[0 1]\n",
            " [2 3]\n",
            " [4 5]\n",
            " [6 7]\n",
            " [8 9]]\n",
            "Concatenando linhas = \n",
            " [[0]\n",
            " [2]\n",
            " [4]\n",
            " [6]\n",
            " [8]\n",
            " [1]\n",
            " [3]\n",
            " [5]\n",
            " [7]\n",
            " [9]]\n"
          ],
          "name": "stdout"
        }
      ]
    },
    {
      "cell_type": "markdown",
      "metadata": {
        "id": "Dby5XQHh-e93"
      },
      "source": [
        "# Exercícios"
      ]
    },
    {
      "cell_type": "markdown",
      "metadata": {
        "id": "_s78EXIt-h2j"
      },
      "source": [
        "## Exercício 1\n",
        "\n",
        "Crie um array de inteiros de 32 bits de formato (4, 5, 3), onde todos os elementos são iguais a 7.\n"
      ]
    },
    {
      "cell_type": "code",
      "metadata": {
        "id": "TzrLkXL7-g-6"
      },
      "source": [
        "# Escreva sua solução aqui."
      ],
      "execution_count": 25,
      "outputs": []
    },
    {
      "cell_type": "markdown",
      "metadata": {
        "id": "rjpaDed9Jdel"
      },
      "source": [
        "### Solução"
      ]
    },
    {
      "cell_type": "code",
      "metadata": {
        "colab": {
          "base_uri": "https://localhost:8080/"
        },
        "id": "1JgPbEKPJfFM",
        "outputId": "c7769fd6-9849-46b3-855f-095ce648b1da"
      },
      "source": [
        "n = np.ones((4, 5, 3), dtype=np.int32)*7\n",
        "print(\"Array = \\n\", n)\n",
        "print(\"\\nTipos de dados do array = \", n.dtype)"
      ],
      "execution_count": 26,
      "outputs": [
        {
          "output_type": "stream",
          "text": [
            "Array = \n",
            " [[[7 7 7]\n",
            "  [7 7 7]\n",
            "  [7 7 7]\n",
            "  [7 7 7]\n",
            "  [7 7 7]]\n",
            "\n",
            " [[7 7 7]\n",
            "  [7 7 7]\n",
            "  [7 7 7]\n",
            "  [7 7 7]\n",
            "  [7 7 7]]\n",
            "\n",
            " [[7 7 7]\n",
            "  [7 7 7]\n",
            "  [7 7 7]\n",
            "  [7 7 7]\n",
            "  [7 7 7]]\n",
            "\n",
            " [[7 7 7]\n",
            "  [7 7 7]\n",
            "  [7 7 7]\n",
            "  [7 7 7]\n",
            "  [7 7 7]]]\n",
            "\n",
            "Tipos de dados do array =  int32\n"
          ],
          "name": "stdout"
        }
      ]
    },
    {
      "cell_type": "markdown",
      "metadata": {
        "id": "sAT60PV4n2Xu"
      },
      "source": [
        "## Exercício 2\n",
        "Faça uma função que dado um intervalo fechado [a, b] e um número de pontos n, retorne o vetor x formado pelos n pontos obtidos a partir do intervalo, e o vetor y cujo i-ésimo elemento é dado por \n",
        "\n",
        "> $y_i = x_i^2 + 5$.\n",
        "\n",
        "\n"
      ]
    },
    {
      "cell_type": "code",
      "metadata": {
        "id": "gDbx4zCIn470"
      },
      "source": [
        "# Escreva sua solução aqui."
      ],
      "execution_count": 27,
      "outputs": []
    },
    {
      "cell_type": "markdown",
      "metadata": {
        "id": "qkV9gZvgKUe2"
      },
      "source": [
        "### Solução"
      ]
    },
    {
      "cell_type": "code",
      "metadata": {
        "colab": {
          "base_uri": "https://localhost:8080/"
        },
        "id": "-Cthwk7yKW0c",
        "outputId": "6317f712-6af5-47f7-f7c9-09f27c8f4ab6"
      },
      "source": [
        "a = 0\n",
        "b = 9\n",
        "n = 10\n",
        "x = np.linspace(a, b, n)\n",
        "y = x**2 + 5\n",
        "\n",
        "print('x = ', x)\n",
        "print('\\ny = ', y)"
      ],
      "execution_count": 28,
      "outputs": [
        {
          "output_type": "stream",
          "text": [
            "x =  [0. 1. 2. 3. 4. 5. 6. 7. 8. 9.]\n",
            "\n",
            "y =  [ 5.  6.  9. 14. 21. 30. 41. 54. 69. 86.]\n"
          ],
          "name": "stdout"
        }
      ]
    },
    {
      "cell_type": "markdown",
      "metadata": {
        "id": "QbeauOo_uq7c"
      },
      "source": [
        "## Exercício 3\n",
        "Uma pista de Kart permite 10 voltas para cada um de 6 corredores. Uma matriz com os tempos (em segundos) de cada volta de cada corredor é dada. Com essa matriz, seu programa deve informar:\n",
        " - De quem foi a melhor volta da prova, e em que volta.\n",
        " - Qual foi o tempo médio de cada corredor.\n",
        " - Classificação final em ordem crescente com base no tempo médio.\n",
        "\n",
        "**OBS:** Não se esqueça de executar a célula seguinte para definir a matriz."
      ]
    },
    {
      "cell_type": "code",
      "metadata": {
        "colab": {
          "base_uri": "https://localhost:8080/"
        },
        "id": "g8VYKtIlLWNm",
        "outputId": "a0e36a58-c3e9-4484-d0f3-e5300ec0f253"
      },
      "source": [
        "# Matriz com o tempo dos corredores em cada volta\n",
        "# As linhas da matriz se referam ao corredor e as colunas, ao tempo de cada volta\n",
        "np.random.seed(1)\n",
        "m_tempo = np.random.randint(60, 180, size=(6, 10))\n",
        "print(m_tempo)"
      ],
      "execution_count": 29,
      "outputs": [
        {
          "output_type": "stream",
          "text": [
            "[[ 97 167  72 132  69 135  65 139 124  76]\n",
            " [ 61 136 131 169  66  85 110  80 161  78]\n",
            " [144  71 166  88  89  74 110 128 147 147]\n",
            " [165 173 179 154 156 146  73 165  69  67]\n",
            " [123 121  82 117  61  60 120 141  68 148]\n",
            " [ 73 175 107 166 132  90 131  63 130  81]]\n"
          ],
          "name": "stdout"
        }
      ]
    },
    {
      "cell_type": "code",
      "metadata": {
        "id": "_YZLs_9WOtY7"
      },
      "source": [
        "# Escreva sua solução aqui."
      ],
      "execution_count": 30,
      "outputs": []
    },
    {
      "cell_type": "markdown",
      "metadata": {
        "id": "oI5elgw1MlEx"
      },
      "source": [
        "### Solução"
      ]
    },
    {
      "cell_type": "code",
      "metadata": {
        "colab": {
          "base_uri": "https://localhost:8080/"
        },
        "id": "1xq8K5E3Mm39",
        "outputId": "90ddfead-ff1b-45fd-ceb4-83590756e7b5"
      },
      "source": [
        "# Volta com menor tempo\n",
        "menor_tempo = np.min(m_tempo)\n",
        "\n",
        "# Index da melhor volta\n",
        "id_menor_tempo = np.where(m_tempo == menor_tempo)\n",
        "\n",
        "# Mostrando o resultado\n",
        "print(\"O melhor tempo foi na {}ª volta do corredor {}.\".format(id_menor_tempo[1][0], id_menor_tempo[0][0]))"
      ],
      "execution_count": 31,
      "outputs": [
        {
          "output_type": "stream",
          "text": [
            "O melhor tempo foi na 5ª volta do corredor 4.\n"
          ],
          "name": "stdout"
        }
      ]
    },
    {
      "cell_type": "code",
      "metadata": {
        "colab": {
          "base_uri": "https://localhost:8080/"
        },
        "id": "7FIX_hcvTgja",
        "outputId": "c455463b-7ce0-48b5-a866-6746662c00b5"
      },
      "source": [
        "# Tempo médio\n",
        "media = np.mean(m_tempo, axis=1)\n",
        "print('Média de cada corredor = \\n', media)"
      ],
      "execution_count": 32,
      "outputs": [
        {
          "output_type": "stream",
          "text": [
            "Média de cada corredor = \n",
            " [107.6 107.7 116.4 134.7 104.1 114.8]\n"
          ],
          "name": "stdout"
        }
      ]
    },
    {
      "cell_type": "code",
      "metadata": {
        "colab": {
          "base_uri": "https://localhost:8080/"
        },
        "id": "nIQahzaxU4OK",
        "outputId": "f8f99cdb-ebd8-4fa7-baf5-2651a26b8a0d"
      },
      "source": [
        "# Classificação\n",
        "classificacao = np.argsort(media)\n",
        "print(\"Classificação dos corredores(1º lugar até 6º) = \", classificacao)"
      ],
      "execution_count": 33,
      "outputs": [
        {
          "output_type": "stream",
          "text": [
            "Classificação dos corredores(1º lugar até 6º) =  [4 0 1 5 2 3]\n"
          ],
          "name": "stdout"
        }
      ]
    }
  ]
}