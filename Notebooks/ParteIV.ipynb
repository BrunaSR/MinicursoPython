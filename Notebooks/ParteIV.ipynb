{
  "nbformat": 4,
  "nbformat_minor": 0,
  "metadata": {
    "colab": {
      "name": "ParteIV.ipynb",
      "provenance": [],
      "collapsed_sections": [
        "rjpaDed9Jdel",
        "qkV9gZvgKUe2"
      ],
      "authorship_tag": "ABX9TyMOK27kh5MCBhEgzNiIFdka",
      "include_colab_link": true
    },
    "kernelspec": {
      "name": "python3",
      "display_name": "Python 3"
    },
    "language_info": {
      "name": "python"
    }
  },
  "cells": [
    {
      "cell_type": "markdown",
      "metadata": {
        "id": "view-in-github",
        "colab_type": "text"
      },
      "source": [
        "<a href=\"https://colab.research.google.com/github/BrunaSR/MinicursoPython/blob/main/Notebooks/ParteIV.ipynb\" target=\"_parent\"><img src=\"https://colab.research.google.com/assets/colab-badge.svg\" alt=\"Open In Colab\"/></a>"
      ]
    },
    {
      "cell_type": "markdown",
      "metadata": {
        "id": "VzDADQc96zBU"
      },
      "source": [
        "# Minicurso Python Parte IV\n",
        "\n",
        "Esse notebook apresenta exemplos e exercícios sobre a biblioteca Numpy"
      ]
    },
    {
      "cell_type": "markdown",
      "metadata": {
        "id": "0bXOIcjA-9-7"
      },
      "source": [
        "# Como criar um array"
      ]
    },
    {
      "cell_type": "code",
      "metadata": {
        "id": "kiJlFrya6yPf"
      },
      "source": [
        "# Importação da biblioteca\n",
        "import numpy as np"
      ],
      "execution_count": 1,
      "outputs": []
    },
    {
      "cell_type": "markdown",
      "metadata": {
        "id": "WuQthidqBbPK"
      },
      "source": [
        "### Vetores"
      ]
    },
    {
      "cell_type": "code",
      "metadata": {
        "colab": {
          "base_uri": "https://localhost:8080/"
        },
        "id": "FMyODQQVBWGr",
        "outputId": "dfddc494-bb12-4c2c-c05a-f05d1411cb78"
      },
      "source": [
        "# Criação de um vetor a partir de uma lista\n",
        "vetor = np.array([1, 2, 3, 4, 5])\n",
        "\n",
        "print(\"Meu primeiro array com numpy = \", vetor)\n",
        "print(type(vetor))"
      ],
      "execution_count": null,
      "outputs": [
        {
          "output_type": "stream",
          "text": [
            "Meu primeiro array com numpy =  [1 2 3 4 5]\n",
            "<class 'numpy.ndarray'>\n"
          ],
          "name": "stdout"
        }
      ]
    },
    {
      "cell_type": "code",
      "metadata": {
        "colab": {
          "base_uri": "https://localhost:8080/"
        },
        "id": "VJzeuN8qDyzO",
        "outputId": "f914f67e-76c5-4c5d-b149-b31c9238ab28"
      },
      "source": [
        "# Acesso aos elementos de um array unidimensional\n",
        "print('O segundo elemento do meu vetor é = ', vetor[1])\n",
        "print('Os 3 últimos elementos são = ', vetor[-3:])\n",
        "print('O segundo, terceiro e quarto elementos são = ', vetor[1:3])"
      ],
      "execution_count": null,
      "outputs": [
        {
          "output_type": "stream",
          "text": [
            "O segundo elemento do meu vetor é =  2\n",
            "Os 3 últimos elementos são =  [3 4 5]\n",
            "O segundo terceiro e quarto elementos são =  [2 3]\n"
          ],
          "name": "stdout"
        }
      ]
    },
    {
      "cell_type": "code",
      "metadata": {
        "colab": {
          "base_uri": "https://localhost:8080/"
        },
        "id": "dAc0x-sNBWS6",
        "outputId": "47110b58-2193-4c78-882a-d34fe0c4f876"
      },
      "source": [
        "# Informações de um array\n",
        "print('Quantidade de elementos = ', vetor.size)\n",
        "print(\"Shape = \", vetor.shape)\n",
        "print(\"Dimensões = \", vetor.ndim)\n",
        "print(\"Tipos de dados do vetor = \", vetor.dtype)"
      ],
      "execution_count": null,
      "outputs": [
        {
          "output_type": "stream",
          "text": [
            "Shape =  (5,)\n",
            "Dimensões =  1\n",
            "Tipos de dados do vetor =  int64\n"
          ],
          "name": "stdout"
        }
      ]
    },
    {
      "cell_type": "markdown",
      "metadata": {
        "id": "zbwt1GkzCJPf"
      },
      "source": [
        "### Matrizes"
      ]
    },
    {
      "cell_type": "code",
      "metadata": {
        "colab": {
          "base_uri": "https://localhost:8080/"
        },
        "id": "IZRROuhUBWY6",
        "outputId": "98854725-6082-4168-b994-23fd7d7d3796"
      },
      "source": [
        "# Criação de uma matriz a partir de uma lista de listas\n",
        "matriz = np.array([[1,2], [3, 4]])\n",
        "\n",
        "print(\"Minha matriz quadrada = \\n\", matriz)\n",
        "print(\"Shape = \", matriz.shape)"
      ],
      "execution_count": null,
      "outputs": [
        {
          "output_type": "stream",
          "text": [
            "Minha matriz quadrada = \n",
            " [[1 2]\n",
            " [3 4]]\n",
            "Shape =  (2, 2)\n"
          ],
          "name": "stdout"
        }
      ]
    },
    {
      "cell_type": "code",
      "metadata": {
        "colab": {
          "base_uri": "https://localhost:8080/"
        },
        "id": "uHy2jkw7BWbi",
        "outputId": "f68427da-d8db-4cfc-da9a-671ff603f328"
      },
      "source": [
        "# Acesso aos elementos de um array multidimensional\n",
        "print('Primeira linha da matriz = ', matriz[0])\n",
        "print('Primeiro elemento da primeira linha = ', matriz[0, 0])\n",
        "print('Primeiro elemento da segunda linha = ', matriz[1, 0])"
      ],
      "execution_count": null,
      "outputs": [
        {
          "output_type": "stream",
          "text": [
            "Primeira linha da matriz =  [1 2]\n",
            "Primeiro elemento da primeira linha =  1\n",
            "Primeiro elemento da segunda linha =  3\n"
          ],
          "name": "stdout"
        }
      ]
    },
    {
      "cell_type": "markdown",
      "metadata": {
        "id": "9uot5Az38ssG"
      },
      "source": [
        "### Alterando elementos\n"
      ]
    },
    {
      "cell_type": "code",
      "metadata": {
        "id": "C-JwFDGu8wjc"
      },
      "source": [
        "# Alterar o elemento de um array\n",
        "print(\"Vetor original = \", vetor)\n",
        "vetor[0] = 10\n",
        "print(\"Primeiro elemento alterado = \", vetor)\n",
        "\n",
        "print('Matriz original = \\n', matriz)\n",
        "matriz[1, 1] = 40\n",
        "print('Último elemento da segunda linha da matriz alterado = ', matriz)"
      ],
      "execution_count": null,
      "outputs": []
    },
    {
      "cell_type": "markdown",
      "metadata": {
        "id": "_sjz_vPDGEIt"
      },
      "source": [
        "### Funções para criação de arrays"
      ]
    },
    {
      "cell_type": "code",
      "metadata": {
        "colab": {
          "base_uri": "https://localhost:8080/"
        },
        "id": "7t9CQJ8vGLaS",
        "outputId": "79e3b791-87ea-4bbc-c289-9c2da031de15"
      },
      "source": [
        "# Matriz 3x4 vazia\n",
        "vazia = np.empty((3, 4))\n",
        "print(vazia)"
      ],
      "execution_count": null,
      "outputs": [
        {
          "output_type": "stream",
          "text": [
            "[[4.66095604e-310 2.47032823e-322 0.00000000e+000 0.00000000e+000]\n",
            " [0.00000000e+000 1.04082753e-047 4.96012452e-090 2.95881656e-032]\n",
            " [1.55075274e+184 4.66239379e-033 3.99910963e+252 1.46030983e-319]]\n"
          ],
          "name": "stdout"
        }
      ]
    },
    {
      "cell_type": "code",
      "metadata": {
        "colab": {
          "base_uri": "https://localhost:8080/"
        },
        "id": "XRTZ0a5aGLpa",
        "outputId": "0425b98a-ee0e-483c-89bb-d43f095e97fa"
      },
      "source": [
        "# Vetor coluna com zeros\n",
        "zeros = np.zeros((6, 1))\n",
        "print(zeros)"
      ],
      "execution_count": null,
      "outputs": [
        {
          "output_type": "stream",
          "text": [
            "[[0.]\n",
            " [0.]\n",
            " [0.]\n",
            " [0.]\n",
            " [0.]\n",
            " [0.]]\n"
          ],
          "name": "stdout"
        }
      ]
    },
    {
      "cell_type": "code",
      "metadata": {
        "colab": {
          "base_uri": "https://localhost:8080/"
        },
        "id": "ISc2ghMHGLsx",
        "outputId": "1491475a-97ce-44e8-8c34-1f43deee5e40"
      },
      "source": [
        "# Vetor linha de valor 1\n",
        "vetor_um = np.ones((1, 6))\n",
        "print(vetor_um)"
      ],
      "execution_count": null,
      "outputs": [
        {
          "output_type": "stream",
          "text": [
            "[[1. 1. 1. 1. 1. 1.]]\n"
          ],
          "name": "stdout"
        }
      ]
    },
    {
      "cell_type": "code",
      "metadata": {
        "colab": {
          "base_uri": "https://localhost:8080/"
        },
        "id": "VoPDfp2dGLwa",
        "outputId": "64268010-0a2d-428f-f640-79e12bf566b2"
      },
      "source": [
        "# Vetor com valores igualmente espaçados dentro de um intervalo\n",
        "vetor = np.linspace(0, 1, 15)\n",
        "print(vetor)"
      ],
      "execution_count": null,
      "outputs": [
        {
          "output_type": "stream",
          "text": [
            "[0.         0.07142857 0.14285714 0.21428571 0.28571429 0.35714286\n",
            " 0.42857143 0.5        0.57142857 0.64285714 0.71428571 0.78571429\n",
            " 0.85714286 0.92857143 1.        ]\n"
          ],
          "name": "stdout"
        }
      ]
    },
    {
      "cell_type": "code",
      "metadata": {
        "colab": {
          "base_uri": "https://localhost:8080/"
        },
        "id": "WnvVZVQEJVQe",
        "outputId": "01f69de5-e8b7-4b06-9922-81f4a54cb40e"
      },
      "source": [
        "# Vetor com valores dentro de um intervalo com passo igual 2\n",
        "pares = np.arange(2, 11, 2)\n",
        "print('Pares de 1 a 10 = ', pares)"
      ],
      "execution_count": null,
      "outputs": [
        {
          "output_type": "stream",
          "text": [
            "Pares de 1 a 10 =  [ 2  4  6  8 10]\n"
          ],
          "name": "stdout"
        }
      ]
    },
    {
      "cell_type": "markdown",
      "metadata": {
        "id": "wUXrU7bTJ1PQ"
      },
      "source": [
        "### Variáveis aleatórias"
      ]
    },
    {
      "cell_type": "code",
      "metadata": {
        "colab": {
          "base_uri": "https://localhost:8080/"
        },
        "id": "zn7s1br2J0dq",
        "outputId": "09b16116-5c23-4982-fedc-f2fb0a4c7481"
      },
      "source": [
        "# Valores aleatórios de uma distribuição uniforme dentro do intervalo [0,1)\n",
        "v = np.random.random(10)\n",
        "print(v)"
      ],
      "execution_count": null,
      "outputs": [
        {
          "output_type": "stream",
          "text": [
            "[0.51093677 0.88386357 0.96047983 0.98696519 0.63858842 0.83554216\n",
            " 0.98273158 0.28953125 0.73679483 0.105234  ]\n"
          ],
          "name": "stdout"
        }
      ]
    },
    {
      "cell_type": "code",
      "metadata": {
        "colab": {
          "base_uri": "https://localhost:8080/"
        },
        "id": "lLZ3wKvBMpwi",
        "outputId": "a5bef8cf-3fde-4d7e-a1ae-09538033653e"
      },
      "source": [
        "# Valores aleatórios inteiros de uma distribuição uniforme dentro do intervalo \n",
        "inteiros = np.random.randint(7, size=(2, 3))\n",
        "print(inteiros)"
      ],
      "execution_count": null,
      "outputs": [
        {
          "output_type": "stream",
          "text": [
            "1\n"
          ],
          "name": "stdout"
        }
      ]
    },
    {
      "cell_type": "code",
      "metadata": {
        "colab": {
          "base_uri": "https://localhost:8080/"
        },
        "id": "4gVhBSNtLeLa",
        "outputId": "a42fd662-11e4-4d7a-885d-4e190ef577dc"
      },
      "source": [
        "# Valores aleatórios de uma distribuição normal padrão \n",
        "v = np.random.randn(2, 3)\n",
        "print(v)"
      ],
      "execution_count": null,
      "outputs": [
        {
          "output_type": "stream",
          "text": [
            "[[ 1.40974587  1.28016672 -0.5136921 ]\n",
            " [ 0.07090824 -0.23663137  0.01907614]]\n"
          ],
          "name": "stdout"
        }
      ]
    },
    {
      "cell_type": "markdown",
      "metadata": {
        "id": "AxWz7uqRM8ZB"
      },
      "source": [
        "### Operações com os arrays"
      ]
    },
    {
      "cell_type": "code",
      "metadata": {
        "colab": {
          "base_uri": "https://localhost:8080/"
        },
        "id": "Yxy3ABjAMIwl",
        "outputId": "fe1a724e-c30b-4881-a52d-1a018d93cdc4"
      },
      "source": [
        "# Operações entre um número e uma array\n",
        "matriz = np.array([[1, 2, 3], [4, 5, 6]])\n",
        "num = 2\n",
        "\n",
        "print('Soma = \\n', matriz + num)\n",
        "print('\\nSubtração = \\n', matriz - num)\n",
        "print('\\nDivisão = \\n', matriz / num)\n",
        "print('\\nMultiplicação = \\n', matriz * num)"
      ],
      "execution_count": null,
      "outputs": [
        {
          "output_type": "stream",
          "text": [
            "Soma = \n",
            " [[3 4 5]\n",
            " [6 7 8]]\n",
            "\n",
            "Subtração = \n",
            " [[-1  0  1]\n",
            " [ 2  3  4]]\n",
            "\n",
            "Divisão = \n",
            " [[0.5 1.  1.5]\n",
            " [2.  2.5 3. ]]\n",
            "\n",
            "Multiplicação = \n",
            " [[ 2  4  6]\n",
            " [ 8 10 12]]\n"
          ],
          "name": "stdout"
        }
      ]
    },
    {
      "cell_type": "code",
      "metadata": {
        "colab": {
          "base_uri": "https://localhost:8080/"
        },
        "id": "2ZKDEXrmNuRj",
        "outputId": "5d2686e1-9a2e-40c0-9414-c154955e18b5"
      },
      "source": [
        "# Operações com matrizes\n",
        "matriz1 = np.array([[2, 3], [1, 5]])\n",
        "matriz2 = 4*np.ones((2, 2))\n",
        "\n",
        "print('Matriz 1 = \\n', matriz1)\n",
        "print('\\nMatriz 2 = \\n', matriz2)\n",
        "\n",
        "print('\\nMultiplicação elemento por elemento de duas matrizes = \\n', matriz1 * matriz2)\n",
        "print('\\nMultiplicação matricial = \\n', matriz1 @ matriz2)\n",
        "print('\\nMultiplicação matricial = \\n', matriz1.dot(matriz2))"
      ],
      "execution_count": null,
      "outputs": [
        {
          "output_type": "stream",
          "text": [
            "Matriz 1 = \n",
            " [[2 3]\n",
            " [1 5]]\n",
            "\n",
            "Matriz 2 = \n",
            " [[4. 4.]\n",
            " [4. 4.]]\n",
            "\n",
            "Multiplicação entre os elemento por elemento de duas matrizes = \n",
            " [[ 8. 12.]\n",
            " [ 4. 20.]]\n",
            "\n",
            "Multiplicação matricial = \n",
            " [[20. 20.]\n",
            " [24. 24.]]\n",
            "\n",
            "Multiplicação matricial = \n",
            " [[20. 20.]\n",
            " [24. 24.]]\n"
          ],
          "name": "stdout"
        }
      ]
    },
    {
      "cell_type": "code",
      "metadata": {
        "colab": {
          "base_uri": "https://localhost:8080/"
        },
        "id": "esNOSSJJEK6C",
        "outputId": "fd7eef43-f534-4cf9-c817-00175f796e08"
      },
      "source": [
        "# Matriz transposta\n",
        "print('Matriz transposta =\\n', np.transpose(matriz))"
      ],
      "execution_count": 12,
      "outputs": [
        {
          "output_type": "stream",
          "text": [
            "Matriz transposta =\n",
            " [[ 1.   3.   2. ]\n",
            " [ 0.  -1.  -1.5]\n",
            " [-2.   0.   3. ]]\n"
          ],
          "name": "stdout"
        }
      ]
    },
    {
      "cell_type": "code",
      "metadata": {
        "colab": {
          "base_uri": "https://localhost:8080/"
        },
        "id": "vaLHZ8rjD7MC",
        "outputId": "b5e79543-7303-41a5-aad9-c4096700d164"
      },
      "source": [
        "# Cálculo da matriz inversa\n",
        "matriz = np.array([[1, 0, -2], [3, -1, 0], [2, -1.5, 3]])\n",
        "print(\"Matriz =\\n\", matriz)\n",
        "print(\"\\nMatriz inversa =\\n\", np.linalg.inv(matriz))"
      ],
      "execution_count": 11,
      "outputs": [
        {
          "output_type": "stream",
          "text": [
            "Matriz 2 =\n",
            " [[ 1.   0.  -2. ]\n",
            " [ 3.  -1.   0. ]\n",
            " [ 2.  -1.5  3. ]]\n",
            "\n",
            "Matriz inversa =\n",
            " [[-1.5   1.5  -1.  ]\n",
            " [-4.5   3.5  -3.  ]\n",
            " [-1.25  0.75 -0.5 ]]\n"
          ],
          "name": "stdout"
        }
      ]
    },
    {
      "cell_type": "markdown",
      "metadata": {
        "id": "TKGTz40gVoFR"
      },
      "source": [
        "### Funções importantes"
      ]
    },
    {
      "cell_type": "code",
      "metadata": {
        "colab": {
          "base_uri": "https://localhost:8080/"
        },
        "id": "COtqEVGRPMTd",
        "outputId": "5a4c7416-10aa-4d39-df5e-dd6a8ef9461b"
      },
      "source": [
        "# Redimensionar um array\n",
        "vetor = np.array([True, False, False, True, True, True])\n",
        "matriz = vetor.reshape((3,2))\n",
        "\n",
        "print(\"Array original = \", vetor)\n",
        "print(\"Array modificado = \\n\", matriz)"
      ],
      "execution_count": null,
      "outputs": [
        {
          "output_type": "stream",
          "text": [
            "Array original =  [ True False False  True  True  True]\n",
            "Array modificado = \n",
            " [[ True False]\n",
            " [False  True]\n",
            " [ True  True]]\n"
          ],
          "name": "stdout"
        }
      ]
    },
    {
      "cell_type": "code",
      "metadata": {
        "colab": {
          "base_uri": "https://localhost:8080/"
        },
        "id": "yK6rS5UUZGgH",
        "outputId": "7040e62e-462b-4d4a-d214-4234eedfc4aa"
      },
      "source": [
        "# Copiar um array\n",
        "vetor1 = np.ones((1, 6))\n",
        "print('Vetor 1 = ', vetor1)\n",
        "\n",
        "vetor2 = vetor1[0, :3]\n",
        "print('\\nVetor 2 = ', vetor2)\n",
        "\n",
        "# Modificando vetor 2\n",
        "vetor2[0] = 5\n",
        "print('\\nVetor 2 modificado = ', vetor2)\n",
        "\n",
        "# Verificando o vetor original\n",
        "print('\\nVerificando o vetor original = ', vetor1)\n",
        "\n",
        "# Utilizando np.copy()\n",
        "print('\\n' + '-'*20 + 'Utilizando np.copy()' + '-'*20)\n",
        "vetor3 = np.copy(vetor1[0, :3])\n",
        "print('\\nVetor 3 = ', vetor3)\n",
        "\n",
        "vetor3[2] = 33\n",
        "print(\"\\nVetor 3 modificado = \", vetor3)\n",
        "\n",
        "print(\"\\nVerificando o vetor original = \", vetor1)"
      ],
      "execution_count": null,
      "outputs": [
        {
          "output_type": "stream",
          "text": [
            "Vetor 1 =  [[1. 1. 1. 1. 1. 1.]]\n",
            "\n",
            "Vetor 2 =  [1. 1. 1.]\n",
            "\n",
            "Vetor 2 modificado =  [5. 1. 1.]\n",
            "\n",
            "Verificando o vetor original =  [[5. 1. 1. 1. 1. 1.]]\n",
            "\n",
            "--------------------Utilizando np.copy()--------------------\n",
            "\n",
            "Vetor 3 =  [5. 1. 1.]\n",
            "\n",
            "Vetor 3 modificado =  [ 5.  1. 33.]\n",
            "\n",
            "Verificando o vetor original =  [[5. 1. 1. 1. 1. 1.]]\n"
          ],
          "name": "stdout"
        }
      ]
    },
    {
      "cell_type": "code",
      "metadata": {
        "colab": {
          "base_uri": "https://localhost:8080/"
        },
        "id": "wt1f530zeulV",
        "outputId": "b6b5636a-87ae-41f6-ce7c-c8e25eeaaa45"
      },
      "source": [
        "# Soma de elementos\n",
        "matriz = np.array([[1, 2, 3], [4, 5, 6]])\n",
        "\n",
        "print('Soma das colunas = ', np.sum(matriz, axis=0))\n",
        "print('Soma das linhas = ', np.sum(matriz, axis=1))\n",
        "print('Soma de todos os elementos = ', np.sum(matriz))"
      ],
      "execution_count": null,
      "outputs": [
        {
          "output_type": "stream",
          "text": [
            "Soma das colunas =  [5 7 9]\n",
            "Soma das linhas =  [ 6 15]\n",
            "Soma de todos os elementos =  21\n"
          ],
          "name": "stdout"
        }
      ]
    },
    {
      "cell_type": "code",
      "metadata": {
        "colab": {
          "base_uri": "https://localhost:8080/"
        },
        "id": "bno_b7-7fYs-",
        "outputId": "85be1c51-8d3f-4b78-ce40-c41b052eb967"
      },
      "source": [
        "# Algumas estatísticas\n",
        "\n",
        "print('Desvio padrão = ', np.std(matriz))\n",
        "print('Média = ', np.mean(matriz))\n",
        "print('Variância = ', np.var(matriz))"
      ],
      "execution_count": null,
      "outputs": [
        {
          "output_type": "stream",
          "text": [
            "Desvio padrão =  1.707825127659933\n",
            "Média =  3.5\n",
            "Variância =  2.9166666666666665\n"
          ],
          "name": "stdout"
        }
      ]
    },
    {
      "cell_type": "code",
      "metadata": {
        "colab": {
          "base_uri": "https://localhost:8080/"
        },
        "id": "CHmsGEWZ-RG9",
        "outputId": "17a87788-f25f-46c8-bb42-391c523475e1"
      },
      "source": [
        "# Concatenação de vetores\n",
        "x1 = np.arange(0, 10, 2).reshape(-1, 1)\n",
        "x2 = np.arange(1, 11, 2).reshape(-1, 1)\n",
        "print('x1 = \\n', x1)\n",
        "print('x2 = \\n', x2)\n",
        "\n",
        "# Juntando as colunas\n",
        "#x3 = np.c_[x1, x2]\n",
        "x3 = np.concatenate((x1, x2), axis=1)\n",
        "print('Concatenando coluna = \\n', x3)\n",
        "\n",
        "# Concatenação por linhas\n",
        "x4 = np.concatenate((x1, x2), axis=0)\n",
        "print('Concatenando linhas = \\n', x4)"
      ],
      "execution_count": 9,
      "outputs": [
        {
          "output_type": "stream",
          "text": [
            "x1 = \n",
            " [[0]\n",
            " [2]\n",
            " [4]\n",
            " [6]\n",
            " [8]]\n",
            "x2 = \n",
            " [[1]\n",
            " [3]\n",
            " [5]\n",
            " [7]\n",
            " [9]]\n",
            "Concatenando coluna = \n",
            " [[0 1]\n",
            " [2 3]\n",
            " [4 5]\n",
            " [6 7]\n",
            " [8 9]]\n",
            "Concatenando linhas = \n",
            " [[0]\n",
            " [2]\n",
            " [4]\n",
            " [6]\n",
            " [8]\n",
            " [1]\n",
            " [3]\n",
            " [5]\n",
            " [7]\n",
            " [9]]\n"
          ],
          "name": "stdout"
        }
      ]
    },
    {
      "cell_type": "markdown",
      "metadata": {
        "id": "Dby5XQHh-e93"
      },
      "source": [
        "# Exercícios"
      ]
    },
    {
      "cell_type": "markdown",
      "metadata": {
        "id": "_s78EXIt-h2j"
      },
      "source": [
        "## Exercício 1\n",
        "\n",
        "Crie um array de inteiros de 32 bits de formato (4, 5, 3), onde todos os elementos são iguais a 7.\n"
      ]
    },
    {
      "cell_type": "code",
      "metadata": {
        "id": "TzrLkXL7-g-6"
      },
      "source": [
        "# Escreva sua solução aqui."
      ],
      "execution_count": null,
      "outputs": []
    },
    {
      "cell_type": "markdown",
      "metadata": {
        "id": "rjpaDed9Jdel"
      },
      "source": [
        "### Solução"
      ]
    },
    {
      "cell_type": "code",
      "metadata": {
        "colab": {
          "base_uri": "https://localhost:8080/"
        },
        "id": "1JgPbEKPJfFM",
        "outputId": "71d7e243-660f-4f99-a3df-91dd47b2d133"
      },
      "source": [
        "n = np.ones((4, 5, 3), dtype=np.int32)*7\n",
        "print(\"Array = \\n\", n)\n",
        "print(\"\\nTipos de dados do array = \", n.dtype)"
      ],
      "execution_count": null,
      "outputs": [
        {
          "output_type": "stream",
          "text": [
            "Array = \n",
            " [[[7 7 7]\n",
            "  [7 7 7]\n",
            "  [7 7 7]\n",
            "  [7 7 7]\n",
            "  [7 7 7]]\n",
            "\n",
            " [[7 7 7]\n",
            "  [7 7 7]\n",
            "  [7 7 7]\n",
            "  [7 7 7]\n",
            "  [7 7 7]]\n",
            "\n",
            " [[7 7 7]\n",
            "  [7 7 7]\n",
            "  [7 7 7]\n",
            "  [7 7 7]\n",
            "  [7 7 7]]\n",
            "\n",
            " [[7 7 7]\n",
            "  [7 7 7]\n",
            "  [7 7 7]\n",
            "  [7 7 7]\n",
            "  [7 7 7]]]\n",
            "\n",
            "Tipos de dados do array =  int32\n"
          ],
          "name": "stdout"
        }
      ]
    },
    {
      "cell_type": "markdown",
      "metadata": {
        "id": "sAT60PV4n2Xu"
      },
      "source": [
        "## Exercício 2\n",
        "Faça uma função que dado um intervalo fechado [a, b] e um número de pontos n, retorne o vetor x formado pelos n pontos obtidos a partir do intervalo, e o vetor y cujo i-ésimo elemento é dado por \n",
        "\n",
        "> $y_i = x_i^2 + 5$.\n",
        "\n",
        "\n"
      ]
    },
    {
      "cell_type": "code",
      "metadata": {
        "id": "gDbx4zCIn470"
      },
      "source": [
        "# Escreva sua solução aqui."
      ],
      "execution_count": null,
      "outputs": []
    },
    {
      "cell_type": "markdown",
      "metadata": {
        "id": "qkV9gZvgKUe2"
      },
      "source": [
        "### Solução"
      ]
    },
    {
      "cell_type": "code",
      "metadata": {
        "colab": {
          "base_uri": "https://localhost:8080/"
        },
        "id": "-Cthwk7yKW0c",
        "outputId": "d45cd31c-f03c-4d7d-d82a-92ad101b5ede"
      },
      "source": [
        "a = 0\n",
        "b = 9\n",
        "n = 10\n",
        "x = np.linspace(a, b, n)\n",
        "y = x**2 + 5\n",
        "\n",
        "print('x = ', x)\n",
        "print('\\ny = ', y)"
      ],
      "execution_count": null,
      "outputs": [
        {
          "output_type": "stream",
          "text": [
            "x =  [0. 1. 2. 3. 4. 5. 6. 7. 8. 9.]\n",
            "\n",
            "y =  [ 5.  6.  9. 14. 21. 30. 41. 54. 69. 86.]\n"
          ],
          "name": "stdout"
        }
      ]
    },
    {
      "cell_type": "markdown",
      "metadata": {
        "id": "QbeauOo_uq7c"
      },
      "source": [
        "### Exercício 3\n",
        "Uma pista de Kart permite 10 voltas para cada um de 6 corredores. Uma matriz com os tempos (em segundos) de cada volta de cada corredor é dada. Com essa matriz, seu programa deve informar:\n",
        " - De quem foi a melhor volta da prova, e em que volta.\n",
        " - Qual foi o tempo médio de cada corredor.\n",
        " - Classificação final em ordem crescente com base no tempo médio.\n",
        "\n",
        "**OBS:** Não se esqueça de executar a célula seguinte para definir a matriz."
      ]
    },
    {
      "cell_type": "code",
      "metadata": {
        "colab": {
          "base_uri": "https://localhost:8080/"
        },
        "id": "g8VYKtIlLWNm",
        "outputId": "464dba17-e811-4919-99c1-37e69a2335f9"
      },
      "source": [
        "# Matriz com o tempo dos corredores em cada volta\n",
        "# As linhas da matriz se referam ao corredor e as colunas, ao tempo de cada volta\n",
        "np.random.seed(1)\n",
        "m_tempo = np.random.randint(60, 180, size=(6, 10))\n",
        "print(m_tempo)"
      ],
      "execution_count": null,
      "outputs": [
        {
          "output_type": "stream",
          "text": [
            "[[ 97 167  72 132  69 135  65 139 124  76]\n",
            " [ 61 136 131 169  66  85 110  80 161  78]\n",
            " [144  71 166  88  89  74 110 128 147 147]\n",
            " [165 173 179 154 156 146  73 165  69  67]\n",
            " [123 121  82 117  61  60 120 141  68 148]\n",
            " [ 73 175 107 166 132  90 131  63 130  81]]\n"
          ],
          "name": "stdout"
        }
      ]
    },
    {
      "cell_type": "code",
      "metadata": {
        "id": "_YZLs_9WOtY7"
      },
      "source": [
        "# Escreva sua solução aqui."
      ],
      "execution_count": null,
      "outputs": []
    },
    {
      "cell_type": "markdown",
      "metadata": {
        "id": "oI5elgw1MlEx"
      },
      "source": [
        "### Solução"
      ]
    },
    {
      "cell_type": "code",
      "metadata": {
        "colab": {
          "base_uri": "https://localhost:8080/"
        },
        "id": "1xq8K5E3Mm39",
        "outputId": "6ffedf83-36cc-4dc6-c92d-44c195d86350"
      },
      "source": [
        "# Volta com menor tempo\n",
        "menor_tempo = np.min(m_tempo)\n",
        "\n",
        "# Index da melhor volta\n",
        "id_menor_tempo = np.where(m_tempo == menor_tempo)\n",
        "\n",
        "# Mostrando o resultado\n",
        "print(\"O melhor tempo foi na {}ª volta do corredor {}.\".format(id_menor_tempo[1][0], id_menor_tempo[0][0]))"
      ],
      "execution_count": null,
      "outputs": [
        {
          "output_type": "stream",
          "text": [
            "O melhor tempo foi na 5ª volta do corredor 4.\n"
          ],
          "name": "stdout"
        }
      ]
    },
    {
      "cell_type": "code",
      "metadata": {
        "colab": {
          "base_uri": "https://localhost:8080/"
        },
        "id": "7FIX_hcvTgja",
        "outputId": "d276e487-698f-4ba2-b25b-3e2c9be92c97"
      },
      "source": [
        "# Tempo médio\n",
        "media = np.mean(m_tempo, axis=1)\n",
        "print('Média de cada corredor = \\n', media)"
      ],
      "execution_count": null,
      "outputs": [
        {
          "output_type": "stream",
          "text": [
            "Média de cada corredor = \n",
            " [107.6 107.7 116.4 134.7 104.1 114.8]\n"
          ],
          "name": "stdout"
        }
      ]
    },
    {
      "cell_type": "code",
      "metadata": {
        "colab": {
          "base_uri": "https://localhost:8080/"
        },
        "id": "nIQahzaxU4OK",
        "outputId": "50729c4d-4223-47d6-bd2b-fb7a1bbabbd6"
      },
      "source": [
        "# Classificação\n",
        "classificacao = np.argsort(media)\n",
        "print(\"Classificação dos corredores(1º lugar até 6º) = \", classificacao)"
      ],
      "execution_count": null,
      "outputs": [
        {
          "output_type": "stream",
          "text": [
            "Classificação dos corredores =  [4 0 1 5 2 3]\n"
          ],
          "name": "stdout"
        }
      ]
    },
    {
      "cell_type": "markdown",
      "metadata": {
        "id": "O0Cz5BZytiYa"
      },
      "source": [
        "### Exercício 4\n",
        "\n",
        "Faça uma função que retorne o resultado de um jogo da velha. Essa função deverá receber uma matriz 3x3 que representa o tabuleiro do jogo. As casas que não foram preenchidas por nenhum jogador será representada pelo valor 0, as preenchidas pelo Jogador 1 será representada pelo valor 1 e para o Jogador 2, use -1.\n",
        "\n",
        "Assim, as possíveis saídas do programa serão:\n",
        "\n",
        "* Se alguma linha, coluna ou vertical for preenchida com o mesmo símbolo, você deverá informar que o jogo acabou e indicar o vencedor.\n",
        "* Se ainda estiver casas faltando para serem preenchidas, é necessário informar que o jogo não foi finalizado.\n",
        "* Se nenhuma das condições anteriores for satisfeita, seu programa deverá retornar que houve empate.\n",
        "\n",
        "Exemplo: dada a seguinte matriz A\n",
        "$$\n",
        "A = \\left[\n",
        "\\begin{array}{ccc}\n",
        "-1 & 0 & 1 \\\\\n",
        "-1 & 1 & -1 \\\\\n",
        "1 & 0 & 0\n",
        "\\end{array}\n",
        "\\right]\n",
        "$$\n",
        "\n",
        "seu programa deve retornar \"O jogo acabou. O vencedor é o jogador 1!\"\n",
        "\n"
      ]
    },
    {
      "cell_type": "code",
      "metadata": {
        "id": "7uXX_UYQOoQq"
      },
      "source": [
        "# Escreva sua solução aqui."
      ],
      "execution_count": null,
      "outputs": []
    }
  ]
}