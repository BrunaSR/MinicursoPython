{
  "nbformat": 4,
  "nbformat_minor": 0,
  "metadata": {
    "colab": {
      "name": "ParteII-Aula.ipynb",
      "provenance": [],
      "authorship_tag": "ABX9TyN58fgtZAB2VxYCPYVtS+HJ",
      "include_colab_link": true
    },
    "kernelspec": {
      "name": "python3",
      "display_name": "Python 3"
    },
    "language_info": {
      "name": "python"
    }
  },
  "cells": [
    {
      "cell_type": "markdown",
      "metadata": {
        "id": "view-in-github",
        "colab_type": "text"
      },
      "source": [
        "<a href=\"https://colab.research.google.com/github/BrunaSR/MinicursoPython/blob/main/Notebooks/Aula/ParteII_Aula.ipynb\" target=\"_parent\"><img src=\"https://colab.research.google.com/assets/colab-badge.svg\" alt=\"Open In Colab\"/></a>"
      ]
    },
    {
      "cell_type": "markdown",
      "metadata": {
        "id": "ukj7h5b63fCL"
      },
      "source": [
        "# Minicurso Python - Parte II\n",
        "\n",
        "Os exemplos e exercícios desse notebook se referem aos seguintes tópicos:\n",
        " - Controle de Fluxo\n",
        " - Laços de Repetição\n",
        " - Coleções de Dados"
      ]
    },
    {
      "cell_type": "markdown",
      "metadata": {
        "id": "shRkQbtC4C80"
      },
      "source": [
        "# Controle de Fluxo"
      ]
    },
    {
      "cell_type": "code",
      "metadata": {
        "colab": {
          "base_uri": "https://localhost:8080/"
        },
        "id": "Ldy6upyN3eCs",
        "outputId": "aad22683-0150-480e-f57a-f4971445ff51"
      },
      "source": [
        "# Exemplo"
      ],
      "execution_count": null,
      "outputs": [
        {
          "output_type": "stream",
          "text": [
            "Produto caro demais!!!\n"
          ],
          "name": "stdout"
        }
      ]
    },
    {
      "cell_type": "markdown",
      "metadata": {
        "id": "VIWSy3EN6mkK"
      },
      "source": [
        "# Laços de Repetição"
      ]
    },
    {
      "cell_type": "code",
      "metadata": {
        "colab": {
          "base_uri": "https://localhost:8080/"
        },
        "id": "FycHLCav6bGk",
        "outputId": "807c6126-6aae-4c73-e13e-4039eaa2f7ee"
      },
      "source": [
        "# Laço for"
      ],
      "execution_count": null,
      "outputs": [
        {
          "output_type": "stream",
          "text": [
            "0 1 2 3 4 5 6 7 8 9 "
          ],
          "name": "stdout"
        }
      ]
    },
    {
      "cell_type": "code",
      "metadata": {
        "colab": {
          "base_uri": "https://localhost:8080/"
        },
        "id": "3fj1zZS17IIh",
        "outputId": "d3e872e0-f5db-4de8-a841-1dab191e28a2"
      },
      "source": [
        "# Laço while"
      ],
      "execution_count": null,
      "outputs": [
        {
          "output_type": "stream",
          "text": [
            "-5 -4 -3 -2 -1 0 "
          ],
          "name": "stdout"
        }
      ]
    },
    {
      "cell_type": "code",
      "metadata": {
        "colab": {
          "base_uri": "https://localhost:8080/"
        },
        "id": "rNBKy0jH7x80",
        "outputId": "6d24d6fd-a269-4d9a-ed95-67f957c2e5b2"
      },
      "source": [
        "# Utilização do break\n",
        "for i in range(0, 30, 3):\n",
        "  if i > 20:\n",
        "    break\n",
        "  print(i)"
      ],
      "execution_count": null,
      "outputs": [
        {
          "output_type": "stream",
          "text": [
            "0\n",
            "3\n",
            "6\n",
            "9\n",
            "12\n",
            "15\n",
            "18\n"
          ],
          "name": "stdout"
        }
      ]
    },
    {
      "cell_type": "markdown",
      "metadata": {
        "id": "J07EAPBTAvRf"
      },
      "source": [
        "# Coleções de Dados"
      ]
    },
    {
      "cell_type": "markdown",
      "metadata": {
        "id": "pfrn5AV5BVdf"
      },
      "source": [
        "## Listas"
      ]
    },
    {
      "cell_type": "markdown",
      "metadata": {
        "id": "TcPY5sTfQ0r7"
      },
      "source": [
        "### Criação das listas"
      ]
    },
    {
      "cell_type": "code",
      "metadata": {
        "colab": {
          "base_uri": "https://localhost:8080/"
        },
        "id": "n1a32EdaN95R",
        "outputId": "d567c2bc-fd85-451b-c9e7-85eba78a3c70"
      },
      "source": [
        "# Lista vazia\n",
        "\n",
        "# Conteúdo da lista\n",
        "\n",
        "# Tipo da variável\n"
      ],
      "execution_count": null,
      "outputs": [
        {
          "output_type": "stream",
          "text": [
            "[]\n",
            "<class 'list'>\n"
          ],
          "name": "stdout"
        }
      ]
    },
    {
      "cell_type": "code",
      "metadata": {
        "colab": {
          "base_uri": "https://localhost:8080/"
        },
        "id": "UmptPX1lAy76",
        "outputId": "01eea5b1-e20a-4615-804b-39ec41cccf78"
      },
      "source": [
        "# Lista simples\n",
        "# Lista de nomes\n",
        "\n",
        "# Conteúdo da lista\n",
        "\n",
        "# Tipo da variável\n"
      ],
      "execution_count": null,
      "outputs": [
        {
          "output_type": "stream",
          "text": [
            "['Ana', 'João', 'Maria', 'José', 'Joaquim']\n",
            "<class 'list'>\n"
          ],
          "name": "stdout"
        }
      ]
    },
    {
      "cell_type": "code",
      "metadata": {
        "colab": {
          "base_uri": "https://localhost:8080/"
        },
        "id": "ENFPRpdxODUU",
        "outputId": "b573fea1-1dfc-48ec-9c5f-8a8a97424f7e"
      },
      "source": [
        "# Lista heterogênea"
      ],
      "execution_count": null,
      "outputs": [
        {
          "output_type": "stream",
          "text": [
            "['João', 25, [2, 5, 6], True]\n"
          ],
          "name": "stdout"
        }
      ]
    },
    {
      "cell_type": "markdown",
      "metadata": {
        "id": "ZWH-hlnUQ7V6"
      },
      "source": [
        "### Acesso aos elementos"
      ]
    },
    {
      "cell_type": "code",
      "metadata": {
        "id": "Y_haZKcxDAPf",
        "colab": {
          "base_uri": "https://localhost:8080/"
        },
        "outputId": "002fb96b-9a3b-4646-c640-565949d8f912"
      },
      "source": [
        "# Acessando um elemento\n",
        "\n",
        "# Último elemento\n"
      ],
      "execution_count": null,
      "outputs": [
        {
          "output_type": "stream",
          "text": [
            "Primeiro elemento =  Ana\n",
            "Último elemento =  Joaquim\n"
          ],
          "name": "stdout"
        }
      ]
    },
    {
      "cell_type": "code",
      "metadata": {
        "id": "tO4uEO7AQlnD"
      },
      "source": [
        "# Acesso a uma posição não existente"
      ],
      "execution_count": null,
      "outputs": []
    },
    {
      "cell_type": "code",
      "metadata": {
        "colab": {
          "base_uri": "https://localhost:8080/"
        },
        "id": "F2zwbJlNDAeD",
        "outputId": "0a60198a-8d79-4768-95b8-fa7297624a7c"
      },
      "source": [
        "# Acessando mais de um elemento\n",
        "# nomes[:3]"
      ],
      "execution_count": null,
      "outputs": [
        {
          "output_type": "stream",
          "text": [
            "Três primeiros elementos =  ['Ana', 'João', 'Maria']\n"
          ],
          "name": "stdout"
        }
      ]
    },
    {
      "cell_type": "code",
      "metadata": {
        "colab": {
          "base_uri": "https://localhost:8080/"
        },
        "id": "5g7SA_hTDAha",
        "outputId": "82d0e8d9-e003-4e3a-c08d-538a8a93c4fe"
      },
      "source": [
        "# Quantidade total de elementos"
      ],
      "execution_count": null,
      "outputs": [
        {
          "output_type": "stream",
          "text": [
            "Nomes =  ['Ana', 'João', 'Maria', 'José', 'Joaquim']\n",
            "Total de elementos =  5\n"
          ],
          "name": "stdout"
        }
      ]
    },
    {
      "cell_type": "code",
      "metadata": {
        "colab": {
          "base_uri": "https://localhost:8080/"
        },
        "id": "Jq1zvh00DLMD",
        "outputId": "f9b23e53-5ccb-4733-96f7-d5d26c59c906"
      },
      "source": [
        "# Acessando todos os elementos da lista \n",
        "# Pelos elementos diretamente\n",
        "print('Todos os elementos da lista:')\n",
        "\n",
        "\n",
        "# Acesso pelas posições\n",
        "print('\\nAcesso pelas posições:')"
      ],
      "execution_count": null,
      "outputs": [
        {
          "output_type": "stream",
          "text": [
            "Todos os elementos da lista:\n",
            "Ana\n",
            "João\n",
            "Maria\n",
            "José\n",
            "Joaquim\n",
            "\n",
            "Acesso pelas posições:\n",
            "Ana\n",
            "João\n",
            "Maria\n",
            "José\n",
            "Joaquim\n"
          ],
          "name": "stdout"
        }
      ]
    },
    {
      "cell_type": "markdown",
      "metadata": {
        "id": "NYAf0EjVRepb"
      },
      "source": [
        "### Verficando a existência de itens na lista"
      ]
    },
    {
      "cell_type": "code",
      "metadata": {
        "colab": {
          "base_uri": "https://localhost:8080/"
        },
        "id": "BQ7IIePvRdn7",
        "outputId": "d426bf03-3362-4f90-e3df-45991b8edae4"
      },
      "source": [
        "# Uso do in e not in\n",
        "print(\"MAria esta na lista?\", \"Maria\" in nomes)\n",
        "print(\"Carlos não está na lista?\", \"Carlos\" in not nomes)"
      ],
      "execution_count": null,
      "outputs": [
        {
          "output_type": "stream",
          "text": [
            "Maria está na lista?  True\n",
            "Carlos não está na lista?  True\n"
          ],
          "name": "stdout"
        }
      ]
    },
    {
      "cell_type": "markdown",
      "metadata": {
        "id": "JC3UPeJSRHVQ"
      },
      "source": [
        "### Adição de elementos"
      ]
    },
    {
      "cell_type": "code",
      "metadata": {
        "colab": {
          "base_uri": "https://localhost:8080/"
        },
        "id": "9r2IFY_SDqDG",
        "outputId": "6c5fffe3-870b-4eb9-c289-78653f4bd7b5"
      },
      "source": [
        "# Adicionando elemento ao final da lista - append"
      ],
      "execution_count": null,
      "outputs": [
        {
          "output_type": "stream",
          "text": [
            "Nova lista =  ['Ana', 'João', 'Maria', 'José', 'Joaquim', 'Fernanda']\n"
          ],
          "name": "stdout"
        }
      ]
    },
    {
      "cell_type": "code",
      "metadata": {
        "colab": {
          "base_uri": "https://localhost:8080/"
        },
        "id": "WAVOCkoZPyxq",
        "outputId": "ed68e32d-19db-4185-961a-7e9727443991"
      },
      "source": [
        "# Adicionando elemento na posição 3 - insert\n",
        "nomes.insert(3, 'Roberta')\n",
        "print('Nova lista = ', nomes)"
      ],
      "execution_count": null,
      "outputs": [
        {
          "output_type": "stream",
          "text": [
            "Nova lista =  ['Ana', 'João', 'Maria', 'Roberta', 'José', 'Joaquim', 'Fernanda']\n"
          ],
          "name": "stdout"
        }
      ]
    },
    {
      "cell_type": "markdown",
      "metadata": {
        "id": "MlsGbFUFRNzu"
      },
      "source": [
        "### Exclusão de Elementos"
      ]
    },
    {
      "cell_type": "code",
      "metadata": {
        "colab": {
          "base_uri": "https://localhost:8080/"
        },
        "id": "TypibQmIPI1S",
        "outputId": "599e9357-3756-4aea-c29b-0b969dbe053f"
      },
      "source": [
        "# Uso do pop()\n",
        "# Remove o item da posição 2 e retorna o item excluído"
      ],
      "execution_count": null,
      "outputs": [
        {
          "output_type": "stream",
          "text": [
            "Nova lista =  ['Ana', 'João', 'Joaquim', 'Fernanda']\n",
            "Item excluído =  José\n"
          ],
          "name": "stdout"
        }
      ]
    },
    {
      "cell_type": "code",
      "metadata": {
        "id": "b296FhskThMt"
      },
      "source": [
        "# Uso do remove()\n",
        "# Remove o item 'Fernanda'"
      ],
      "execution_count": null,
      "outputs": []
    },
    {
      "cell_type": "code",
      "metadata": {
        "colab": {
          "base_uri": "https://localhost:8080/"
        },
        "id": "VJZtxwj3ThNn",
        "outputId": "02ae46fd-e2a1-4c2b-8183-5619dbb098ef"
      },
      "source": [
        "# Uso do del\n",
        "del nomes[-1]\n",
        "\n",
        "print('Após a remoção do último elemento = ', nomes)"
      ],
      "execution_count": null,
      "outputs": [
        {
          "output_type": "stream",
          "text": [
            "Após a remoção do último elemento =  ['Ana', 'João']\n"
          ],
          "name": "stdout"
        }
      ]
    },
    {
      "cell_type": "markdown",
      "metadata": {
        "id": "iQvDa3iWRTwm"
      },
      "source": [
        "### Ordenando listas\n"
      ]
    },
    {
      "cell_type": "code",
      "metadata": {
        "colab": {
          "base_uri": "https://localhost:8080/"
        },
        "id": "-OerxFLwPfiL",
        "outputId": "c7fd323b-738d-4d55-8a38-78ec8aa4e15f"
      },
      "source": [
        "# Função sort()"
      ],
      "execution_count": null,
      "outputs": [
        {
          "output_type": "stream",
          "text": [
            "Ordem crescente =  [10, 13, 25, 36, 48]\n"
          ],
          "name": "stdout"
        }
      ]
    },
    {
      "cell_type": "code",
      "metadata": {
        "colab": {
          "base_uri": "https://localhost:8080/"
        },
        "id": "7xLVlSqKU-Iw",
        "outputId": "99229c4c-046a-47cc-90fa-6f643190e20c"
      },
      "source": [
        "# Uso do reverse()\n",
        "# idade.sort(reverse=True)"
      ],
      "execution_count": null,
      "outputs": [
        {
          "output_type": "stream",
          "text": [
            "Ordem decrescente =  [48, 36, 25, 13, 10]\n"
          ],
          "name": "stdout"
        }
      ]
    },
    {
      "cell_type": "markdown",
      "metadata": {
        "id": "XRz__0kXzevC"
      },
      "source": [
        "## Tuplas"
      ]
    },
    {
      "cell_type": "markdown",
      "metadata": {
        "id": "7s5V7Nff8Do5"
      },
      "source": [
        "### Criação das tuplas"
      ]
    },
    {
      "cell_type": "code",
      "metadata": {
        "id": "R3tuWO7u5qPz",
        "colab": {
          "base_uri": "https://localhost:8080/"
        },
        "outputId": "e3a88a81-a0ff-4bc6-accc-5ea0083fcecf"
      },
      "source": [
        "# Tupla vazia"
      ],
      "execution_count": null,
      "outputs": [
        {
          "output_type": "stream",
          "text": [
            "()\n",
            "<class 'tuple'>\n"
          ],
          "name": "stdout"
        }
      ]
    },
    {
      "cell_type": "code",
      "metadata": {
        "colab": {
          "base_uri": "https://localhost:8080/"
        },
        "id": "PWJssoGP54ty",
        "outputId": "d8fef3b8-9ede-485f-fe24-e3a4486d0842"
      },
      "source": [
        "# Tupla com único elemento\n"
      ],
      "execution_count": null,
      "outputs": [
        {
          "output_type": "stream",
          "text": [
            "<class 'tuple'>\n",
            "<class 'tuple'>\n",
            "<class 'int'>\n"
          ],
          "name": "stdout"
        }
      ]
    },
    {
      "cell_type": "code",
      "metadata": {
        "colab": {
          "base_uri": "https://localhost:8080/"
        },
        "id": "7kPDhCBk7CHk",
        "outputId": "70246a75-b2e9-42f5-d84f-11e18cb0849f"
      },
      "source": [
        "# Tupla simples\n",
        "\n",
        "# Conteudo da tupla\n",
        "\n",
        "# Tipo da variável\n"
      ],
      "execution_count": null,
      "outputs": [
        {
          "output_type": "stream",
          "text": [
            "(1, 2, 3, 4, 5)\n",
            "<class 'tuple'>\n"
          ],
          "name": "stdout"
        }
      ]
    },
    {
      "cell_type": "code",
      "metadata": {
        "id": "Lk2jobIL7K4_",
        "colab": {
          "base_uri": "https://localhost:8080/"
        },
        "outputId": "d23b2060-ec34-46c8-c414-c5327c41ae09"
      },
      "source": [
        "# Tuplas são heterogêneas\n",
        "tuplaH = ('José', 25, False)\n",
        "print(tuplaH)"
      ],
      "execution_count": null,
      "outputs": [
        {
          "output_type": "stream",
          "text": [
            "('José', 25, False)\n"
          ],
          "name": "stdout"
        }
      ]
    },
    {
      "cell_type": "markdown",
      "metadata": {
        "id": "dAwk5qVJ8JEw"
      },
      "source": [
        "### Acesso aos elementos\n"
      ]
    },
    {
      "cell_type": "code",
      "metadata": {
        "colab": {
          "base_uri": "https://localhost:8080/"
        },
        "id": "KsKnc1ZG7XlQ",
        "outputId": "5e3eb783-279c-42e1-9cc7-88aac3ac4f5d"
      },
      "source": [
        "# Acessando um elemento\n",
        "item = tupla[0]\n",
        "print('Primeiro item da tupla = ', item) "
      ],
      "execution_count": null,
      "outputs": [
        {
          "output_type": "stream",
          "text": [
            "Primeiro item da tupla =  1\n"
          ],
          "name": "stdout"
        }
      ]
    },
    {
      "cell_type": "code",
      "metadata": {
        "colab": {
          "base_uri": "https://localhost:8080/"
        },
        "id": "6t7ixu0e8huw",
        "outputId": "bf05e732-194b-4299-fdfd-0d0f01fa6d7b"
      },
      "source": [
        "# Acessando mais de um elemento\n",
        "itens = tupla[1:4]\n",
        "print(\"Alguns elementos da tupla = \", itens)"
      ],
      "execution_count": null,
      "outputs": [
        {
          "output_type": "stream",
          "text": [
            "Alguns elementos da tupla =  (2, 3, 4)\n"
          ],
          "name": "stdout"
        }
      ]
    },
    {
      "cell_type": "code",
      "metadata": {
        "colab": {
          "base_uri": "https://localhost:8080/"
        },
        "id": "PIamsE85BjNL",
        "outputId": "09020976-3943-476a-96eb-e44dfc32f959"
      },
      "source": [
        "# Desempacotando os elementos\n"
      ],
      "execution_count": null,
      "outputs": [
        {
          "output_type": "stream",
          "text": [
            "Nome =  Daniel\n",
            "Idade =  36\n",
            "Vacindo?  True\n"
          ],
          "name": "stdout"
        }
      ]
    },
    {
      "cell_type": "markdown",
      "metadata": {
        "id": "bUpcKChV9Z87"
      },
      "source": [
        "### Verificando a existência de itens na tupla"
      ]
    },
    {
      "cell_type": "code",
      "metadata": {
        "colab": {
          "base_uri": "https://localhost:8080/"
        },
        "id": "UmGfIOO_9eh_",
        "outputId": "04db7019-2e42-4e72-c179-414f35f10a2f"
      },
      "source": [
        "# Além das duas formas apresentadas no tópico 'Lista', há uma terceira forma de verificar a existência de itens.\n",
        "tupla_nomes = ('João', 'Carla', 'Maria', 'Renata')\n",
        "\n",
        "# Utilizado in\n",
        "\n",
        "\n",
        "# O método index() que retorna a posição do valor se ele estiver presente na tupla e um erro caso contrário\n"
      ],
      "execution_count": null,
      "outputs": [
        {
          "output_type": "stream",
          "text": [
            "Renata está presente na tupla? True\n",
            "Posição do item 'Renata' =  3\n"
          ],
          "name": "stdout"
        }
      ]
    },
    {
      "cell_type": "code",
      "metadata": {
        "colab": {
          "base_uri": "https://localhost:8080/",
          "height": 185
        },
        "id": "_tGBX3GU_Xyg",
        "outputId": "400005c1-d2e3-4d0b-fe13-820b13790f57"
      },
      "source": [
        "# Elemento não existente - função index"
      ],
      "execution_count": null,
      "outputs": [
        {
          "output_type": "error",
          "ename": "ValueError",
          "evalue": "ignored",
          "traceback": [
            "\u001b[0;31m---------------------------------------------------------------------------\u001b[0m",
            "\u001b[0;31mValueError\u001b[0m                                Traceback (most recent call last)",
            "\u001b[0;32m<ipython-input-38-dd4d9ecf5ec0>\u001b[0m in \u001b[0;36m<module>\u001b[0;34m()\u001b[0m\n\u001b[1;32m      1\u001b[0m \u001b[0;31m# Elemento não existente\u001b[0m\u001b[0;34m\u001b[0m\u001b[0;34m\u001b[0m\u001b[0;34m\u001b[0m\u001b[0m\n\u001b[0;32m----> 2\u001b[0;31m \u001b[0mprint\u001b[0m\u001b[0;34m(\u001b[0m\u001b[0;34m\"Posição do item 'Felipe' = \"\u001b[0m\u001b[0;34m,\u001b[0m \u001b[0mtupla_nomes\u001b[0m\u001b[0;34m.\u001b[0m\u001b[0mindex\u001b[0m\u001b[0;34m(\u001b[0m\u001b[0;34m'Felipe'\u001b[0m\u001b[0;34m)\u001b[0m\u001b[0;34m)\u001b[0m\u001b[0;34m\u001b[0m\u001b[0;34m\u001b[0m\u001b[0m\n\u001b[0m",
            "\u001b[0;31mValueError\u001b[0m: tuple.index(x): x not in tuple"
          ]
        }
      ]
    },
    {
      "cell_type": "markdown",
      "metadata": {
        "id": "tDAtsFCx_EEs"
      },
      "source": [
        "### Tentando alterar um item da tupla"
      ]
    },
    {
      "cell_type": "code",
      "metadata": {
        "colab": {
          "base_uri": "https://localhost:8080/",
          "height": 167
        },
        "id": "9hXuJTy-_CgH",
        "outputId": "99713aa7-0d83-48e5-af60-2d1c1eff72cb"
      },
      "source": [
        "# Exemplo"
      ],
      "execution_count": null,
      "outputs": [
        {
          "output_type": "error",
          "ename": "TypeError",
          "evalue": "ignored",
          "traceback": [
            "\u001b[0;31m---------------------------------------------------------------------------\u001b[0m",
            "\u001b[0;31mTypeError\u001b[0m                                 Traceback (most recent call last)",
            "\u001b[0;32m<ipython-input-39-664e020aea5d>\u001b[0m in \u001b[0;36m<module>\u001b[0;34m()\u001b[0m\n\u001b[0;32m----> 1\u001b[0;31m \u001b[0mtupla_nomes\u001b[0m\u001b[0;34m[\u001b[0m\u001b[0;36m0\u001b[0m\u001b[0;34m]\u001b[0m \u001b[0;34m=\u001b[0m \u001b[0;34m'Antônio'\u001b[0m\u001b[0;34m\u001b[0m\u001b[0;34m\u001b[0m\u001b[0m\n\u001b[0m",
            "\u001b[0;31mTypeError\u001b[0m: 'tuple' object does not support item assignment"
          ]
        }
      ]
    },
    {
      "cell_type": "markdown",
      "metadata": {
        "id": "bPBsqLjP_muL"
      },
      "source": [
        "### Conversão de tuplas"
      ]
    },
    {
      "cell_type": "code",
      "metadata": {
        "colab": {
          "base_uri": "https://localhost:8080/"
        },
        "id": "OILjl-pz_ubQ",
        "outputId": "c3b26687-1758-4045-c859-b545ddb29c35"
      },
      "source": [
        "# Tupla para lista\n",
        "tupla = (5, 27, 'Ana', 3j)\n",
        "\n",
        "lista = list(tupla) # Conversão da tupla\n",
        "\n",
        "print('tupla = ', tupla)\n",
        "print(type(tupla))\n",
        "\n",
        "print('\\nlista = ', lista)\n",
        "print(type(lista))"
      ],
      "execution_count": null,
      "outputs": [
        {
          "output_type": "stream",
          "text": [
            "tupla =  (5, 27, 'Ana', 3j)\n",
            "<class 'tuple'>\n",
            "\n",
            "lista =  [5, 27, 'Ana', 3j]\n",
            "<class 'list'>\n"
          ],
          "name": "stdout"
        }
      ]
    },
    {
      "cell_type": "code",
      "metadata": {
        "colab": {
          "base_uri": "https://localhost:8080/"
        },
        "id": "3rK5mgxaAvV9",
        "outputId": "918b7157-cfba-4136-b92a-9774e2a61c6c"
      },
      "source": [
        "# Lista para tupla\n",
        "lista = [5, 6, 9, 78]\n",
        "\n",
        "tupla = tuple(lista) # Conversão da lista\n",
        "\n",
        "print('lista = ', lista)\n",
        "print(type(lista))\n",
        "\n",
        "print('\\ntupla = ', tupla)\n",
        "print(type(tupla))"
      ],
      "execution_count": null,
      "outputs": [
        {
          "output_type": "stream",
          "text": [
            "lista =  [5, 6, 9, 78]\n",
            "<class 'list'>\n",
            "\n",
            "tupla =  (5, 6, 9, 78)\n",
            "<class 'tuple'>\n"
          ],
          "name": "stdout"
        }
      ]
    },
    {
      "cell_type": "markdown",
      "metadata": {
        "id": "Mys8VwI0bAWq"
      },
      "source": [
        "# Exercícios"
      ]
    },
    {
      "cell_type": "markdown",
      "metadata": {
        "id": "XNckjeLIbDUg"
      },
      "source": [
        "## Exercício 1\n",
        "\n",
        "Em um hotel, os hóspedes são classificados de acordo com sua faixa etária. A classificação é feita da seguinte forma:\n",
        "\n",
        "|  Categoria   |   Faixa Etária  |      \n",
        "|:----------:  |:---------------:|\n",
        "|   Recanto    |    0 a 3 anos   |        \n",
        "|   Infantil   |    4 a 11 anos  |      \n",
        "|   Juvenil    |   12 a 17 anos  |     \n",
        "|    Adulto    |   18 a 50 anos  |\n",
        "| Melhor Idade |a partir de 51 anos|  \n",
        "\n",
        "Escreva um algoritmo que classifique um hóspede com base na idade fornecida. Caso a idade seja negativa ou maior que 120 anos, o programa deve imprimir a mensagem \"Idade inválida!\"\n"
      ]
    },
    {
      "cell_type": "code",
      "metadata": {
        "id": "EgMmzZ-zbCE_"
      },
      "source": [
        "# Escreva sua solução aqui."
      ],
      "execution_count": null,
      "outputs": []
    },
    {
      "cell_type": "markdown",
      "metadata": {
        "id": "x3TZInPJS-7B"
      },
      "source": [
        "### Solução"
      ]
    },
    {
      "cell_type": "code",
      "metadata": {
        "colab": {
          "base_uri": "https://localhost:8080/"
        },
        "id": "DL2xn060TBVU",
        "outputId": "973d3aa6-8952-45a8-f225-6b3de7a50e76"
      },
      "source": [
        "idade = 10 # Armazena a idade do hóspede\n",
        "\n",
        "# Classificação do hóspede\n",
        "if idade < 0 or idade > 120:\n",
        "  print(\"Idade inválida!\")\n",
        "else:\n",
        "  if idade >= 51:\n",
        "    print(\"Melhor Idade\")\n",
        "  elif idade >= 18:\n",
        "    print(\"Adulto\")\n",
        "  elif idade >= 12:\n",
        "    print(\"Juvenil\")\n",
        "  elif idade >= 4:\n",
        "    print(\"Infantil\")\n",
        "  else:\n",
        "    print(\"Recanto\")"
      ],
      "execution_count": null,
      "outputs": [
        {
          "output_type": "stream",
          "text": [
            "Infantil\n"
          ],
          "name": "stdout"
        }
      ]
    },
    {
      "cell_type": "markdown",
      "metadata": {
        "id": "5cO0o_6pde27"
      },
      "source": [
        "## Exercício 2\n",
        "Uma empresa de pesquisas fez a seguinte enquete: \\\n",
        "\"Qual o melhor Sistema Operacional para uso em servidores?\"\n",
        "\n",
        "As possíveis respostas eram:\\\n",
        "1- Windows Server \\\n",
        "2- Unix \\\n",
        "3- Linux \\\n",
        "4- Netware \\\n",
        "5- Mac OS \\\n",
        "6- Outro \\\n",
        "\n",
        "Você foi contrado para gerar um programa que receba os resultados da enquete e informe o sistema operacional mais votado, qual foi a quantidade total de votos desse sistema e o percentual equivalente. Para resolver o problema, crie duas listas: uma para armazenar as possíveis respostas e outra para armazenar os votos.\n",
        "\n",
        "A tabela a seguir mostra o resultado da enquete:\n",
        "\n",
        "|Sistema Operacional |Votos|\n",
        "|:------------------:|:---:|\n",
        "|Windows Server      | 1500|\n",
        "|Unix                | 3500|\n",
        "|Linux               | 3000|\n",
        "|Netware             |  500|\n",
        "|Mac OS              |  150|\n",
        "|Outro               |  150| \n",
        "\n"
      ]
    },
    {
      "cell_type": "code",
      "metadata": {
        "id": "fTxZ3VFNdzBE"
      },
      "source": [
        "# Escreva sua solução aqui."
      ],
      "execution_count": null,
      "outputs": []
    },
    {
      "cell_type": "markdown",
      "metadata": {
        "id": "1M9fVCSJTNF9"
      },
      "source": [
        "### Solução"
      ]
    },
    {
      "cell_type": "code",
      "metadata": {
        "colab": {
          "base_uri": "https://localhost:8080/"
        },
        "id": "v_-fjNisTO9k",
        "outputId": "d171139a-0a91-430d-93c2-d387fcfbb367"
      },
      "source": [
        "sistemas = ['Windows Server', 'Unix', 'Linux', 'Netware', 'Mac OS', 'Outro'] # Possíveis respostas\n",
        "votos = [1500, 3500, 3000, 500, 150, 150] # Votos\n",
        "\n",
        "total = 0 # Quantidade total de votos\n",
        "for c in range(len(sistemas)):\n",
        "  # Soma dos votos\n",
        "  total = total + votos[c] \n",
        "\n",
        "  # Verifica o maior\n",
        "  if c == 0:\n",
        "    maior_voto = votos[c] # Arnazena o valor do maior voto\n",
        "    posicao_maior = c # Armazena a posição do maior voto\n",
        "  elif votos[c] > maior_voto:\n",
        "    maior_voto = votos[c]\n",
        "    posicao_maior = c\n",
        "\n",
        "sistema_mais_votado = sistemas[posicao_maior]\n",
        "percentual = (votos[posicao_maior]/total)*100\n",
        "print(\"O sistema operacional mais votado foi {} com {}, equivalente a {:.2f}%.\".format(sistema_mais_votado, maior_voto, percentual))"
      ],
      "execution_count": null,
      "outputs": [
        {
          "output_type": "stream",
          "text": [
            "O sistema operacional mais votado foi Unix com 3500, equivalente a 39.77%.\n"
          ],
          "name": "stdout"
        }
      ]
    },
    {
      "cell_type": "markdown",
      "metadata": {
        "id": "r-BWxBk-ra1q"
      },
      "source": [
        "## Exercício 3\n",
        "A tupla fornecida contém, na ordem, os 20 primeiros colocados da tabela do Campeonato Brasileiro de Futebol. Pede-se:\n",
        "* A) Os 5 primeiros colocados \n",
        "* B) Os 3 últimos colocados \n",
        "* C) Times em ordem alfabética \n",
        "* D) Em que posição está o melhor time do Brasil?\n",
        "\n",
        "**OBS:** Não se esqueça de executar a célula seguinte para definir a tupla"
      ]
    },
    {
      "cell_type": "code",
      "metadata": {
        "id": "F9t_XBnlrc6y"
      },
      "source": [
        "times = ('Palmeiras', 'Atlético-MG', 'Fortaleza', 'Bragantino', 'Athletico-PR', 'Flamengo', 'Ceará SC', 'Atlético-GO', 'Bahia', 'Corinthians', 'Fluminense', 'Santos',\n",
        "         'Juventude', 'Internacional', 'Cuiabá', 'São Paulo', 'Sport Recife', 'América-MG', 'Grêmio', 'Chapecoense')"
      ],
      "execution_count": null,
      "outputs": []
    },
    {
      "cell_type": "code",
      "metadata": {
        "id": "v8odttDEzOXa"
      },
      "source": [
        "# Escreva sua solução aqui."
      ],
      "execution_count": null,
      "outputs": []
    },
    {
      "cell_type": "markdown",
      "metadata": {
        "id": "Pi4h_BmOTQ1Y"
      },
      "source": [
        "###Solução"
      ]
    },
    {
      "cell_type": "code",
      "metadata": {
        "colab": {
          "base_uri": "https://localhost:8080/"
        },
        "id": "yetkIMi7TSWU",
        "outputId": "b77ac306-8bad-4a13-95ef-fdf9fb20c524"
      },
      "source": [
        "print(\"Os 5 primeiros colocados = \", times[:5])\n",
        "print(\"\\nOs 3 últimos colocados = \", times[-3:])\n",
        "print(\"\\nEm ordem alfabética = \", sorted(times))\n",
        "print(\"\\nPosição do melhor time do Brasil = \", times.index(\"Flamengo\"))"
      ],
      "execution_count": null,
      "outputs": [
        {
          "output_type": "stream",
          "text": [
            "Os 5 primeiros colocados =  ('Palmeiras', 'Atlético-MG', 'Fortaleza', 'Bragantino', 'Athletico-PR')\n",
            "\n",
            "Os 3 últimos colocados =  ('América-MG', 'Grêmio', 'Chapecoense')\n",
            "\n",
            "Em ordem alfabética =  ['América-MG', 'Athletico-PR', 'Atlético-GO', 'Atlético-MG', 'Bahia', 'Bragantino', 'Ceará SC', 'Chapecoense', 'Corinthians', 'Cuiabá', 'Flamengo', 'Fluminense', 'Fortaleza', 'Grêmio', 'Internacional', 'Juventude', 'Palmeiras', 'Santos', 'Sport Recife', 'São Paulo']\n",
            "\n",
            "Posição do melhor time do Brasil =  5\n"
          ],
          "name": "stdout"
        }
      ]
    }
  ]
}