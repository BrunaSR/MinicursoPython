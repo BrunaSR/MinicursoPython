{
  "nbformat": 4,
  "nbformat_minor": 0,
  "metadata": {
    "colab": {
      "name": "ParteI-Aula.ipynb",
      "provenance": [],
      "collapsed_sections": [
        "-NKfWdno10jv",
        "rKpc8_YfHMa6",
        "-VNA2AzHKlMa",
        "RMBEgycuKvuG",
        "y3l12DXp48cu",
        "nWNXAxoZPjQS",
        "eLJg6Vg0ZikE",
        "8aS9kxW7dloB"
      ],
      "authorship_tag": "ABX9TyOrwW7AsLZK37jEHgUvb1pq",
      "include_colab_link": true
    },
    "kernelspec": {
      "name": "python3",
      "display_name": "Python 3"
    },
    "language_info": {
      "name": "python"
    }
  },
  "cells": [
    {
      "cell_type": "markdown",
      "metadata": {
        "id": "view-in-github",
        "colab_type": "text"
      },
      "source": [
        "<a href=\"https://colab.research.google.com/github/BrunaSR/MinicursoPython/blob/main/Notebooks/Aula/ParteI_Aula.ipynb\" target=\"_parent\"><img src=\"https://colab.research.google.com/assets/colab-badge.svg\" alt=\"Open In Colab\"/></a>"
      ]
    },
    {
      "cell_type": "markdown",
      "metadata": {
        "id": "-NKfWdno10jv"
      },
      "source": [
        "# Minicurso Python - Parte I\n",
        "\n",
        "Esse notebook contém alguns exemplos e exercícios dos seguintes tópicos:\n",
        " - Tipos de dados\n",
        " - Operadores aritméticos\n",
        " - Operadores relacionais\n",
        " - Operadores lógicos"
      ]
    },
    {
      "cell_type": "markdown",
      "metadata": {
        "id": "rKpc8_YfHMa6"
      },
      "source": [
        "# Tipos de Dados"
      ]
    },
    {
      "cell_type": "markdown",
      "metadata": {
        "id": "-VNA2AzHKlMa"
      },
      "source": [
        "## Declaração das variáveis"
      ]
    },
    {
      "cell_type": "code",
      "metadata": {
        "colab": {
          "base_uri": "https://localhost:8080/"
        },
        "id": "x3ZQIqw8HLbP",
        "outputId": "701fd2ae-2e0c-42b6-99d0-97cd2cd253c7"
      },
      "source": [
        "# Declarando um número inteiro\n",
        "\n",
        "# Mostrando o tipo da variável e seu valor"
      ],
      "execution_count": null,
      "outputs": [
        {
          "output_type": "stream",
          "text": [
            "<class 'int'>\n",
            "x =  10\n"
          ],
          "name": "stdout"
        }
      ]
    },
    {
      "cell_type": "code",
      "metadata": {
        "colab": {
          "base_uri": "https://localhost:8080/"
        },
        "id": "KpGN6hPAKDhS",
        "outputId": "7a398b07-e6e6-4fcc-b51c-f19ede6d1c30"
      },
      "source": [
        "# Alterando o tipo de conteúdo de x\n",
        "\n",
        "# Verficando o tipo da variável novamente\n"
      ],
      "execution_count": null,
      "outputs": [
        {
          "output_type": "stream",
          "text": [
            "<class 'str'>\n",
            "x =  Agora uma string\n"
          ],
          "name": "stdout"
        }
      ]
    },
    {
      "cell_type": "markdown",
      "metadata": {
        "id": "RMBEgycuKvuG"
      },
      "source": [
        "## Conversão de tipos"
      ]
    },
    {
      "cell_type": "code",
      "metadata": {
        "colab": {
          "base_uri": "https://localhost:8080/"
        },
        "id": "2_3vn53RKg_O",
        "outputId": "0e4f445c-5611-4022-ca39-0e362fb615b5"
      },
      "source": [
        "# Conversão de um int para float"
      ],
      "execution_count": null,
      "outputs": [
        {
          "output_type": "stream",
          "text": [
            "<class 'int'>\n",
            "a =  12\n",
            "\n",
            "<class 'float'>\n",
            "b =  12.0\n"
          ],
          "name": "stdout"
        }
      ]
    },
    {
      "cell_type": "markdown",
      "metadata": {
        "id": "y3l12DXp48cu"
      },
      "source": [
        "## Mensagens de erro"
      ]
    },
    {
      "cell_type": "code",
      "metadata": {
        "colab": {
          "base_uri": "https://localhost:8080/",
          "height": 185
        },
        "id": "ju-OQ5GuLyE4",
        "outputId": "437c5103-d12a-4957-dad1-e6d375564aff"
      },
      "source": [
        "# Acesso a uma variável não inicializada"
      ],
      "execution_count": null,
      "outputs": [
        {
          "output_type": "error",
          "ename": "NameError",
          "evalue": "ignored",
          "traceback": [
            "\u001b[0;31m---------------------------------------------------------------------------\u001b[0m",
            "\u001b[0;31mNameError\u001b[0m                                 Traceback (most recent call last)",
            "\u001b[0;32m<ipython-input-4-3b76954f881a>\u001b[0m in \u001b[0;36m<module>\u001b[0;34m()\u001b[0m\n\u001b[1;32m      1\u001b[0m \u001b[0;31m# Acesso a uma variável não inicializada\u001b[0m\u001b[0;34m\u001b[0m\u001b[0;34m\u001b[0m\u001b[0;34m\u001b[0m\u001b[0m\n\u001b[0;32m----> 2\u001b[0;31m \u001b[0mprint\u001b[0m\u001b[0;34m(\u001b[0m\u001b[0;34m\"Valor de y\"\u001b[0m\u001b[0;34m,\u001b[0m \u001b[0my\u001b[0m\u001b[0;34m)\u001b[0m\u001b[0;34m\u001b[0m\u001b[0;34m\u001b[0m\u001b[0m\n\u001b[0m",
            "\u001b[0;31mNameError\u001b[0m: name 'y' is not defined"
          ]
        }
      ]
    },
    {
      "cell_type": "code",
      "metadata": {
        "colab": {
          "base_uri": "https://localhost:8080/",
          "height": 203
        },
        "id": "J3XyMPVa2U3A",
        "outputId": "56f96ba6-b980-4f3e-a80b-6302222c2273"
      },
      "source": [
        "# Operações com tipos de dados incompatíveis\n",
        "\n",
        "# Soma de uma string com inteiro"
      ],
      "execution_count": null,
      "outputs": [
        {
          "output_type": "error",
          "ename": "TypeError",
          "evalue": "ignored",
          "traceback": [
            "\u001b[0;31m---------------------------------------------------------------------------\u001b[0m",
            "\u001b[0;31mTypeError\u001b[0m                                 Traceback (most recent call last)",
            "\u001b[0;32m<ipython-input-5-f57b46a285c7>\u001b[0m in \u001b[0;36m<module>\u001b[0;34m()\u001b[0m\n\u001b[1;32m      3\u001b[0m \u001b[0mb\u001b[0m \u001b[0;34m=\u001b[0m \u001b[0;36m10\u001b[0m\u001b[0;34m\u001b[0m\u001b[0;34m\u001b[0m\u001b[0m\n\u001b[1;32m      4\u001b[0m \u001b[0;34m\u001b[0m\u001b[0m\n\u001b[0;32m----> 5\u001b[0;31m \u001b[0mprint\u001b[0m\u001b[0;34m(\u001b[0m\u001b[0ma\u001b[0m \u001b[0;34m+\u001b[0m \u001b[0mb\u001b[0m\u001b[0;34m)\u001b[0m\u001b[0;34m\u001b[0m\u001b[0;34m\u001b[0m\u001b[0m\n\u001b[0m",
            "\u001b[0;31mTypeError\u001b[0m: can only concatenate str (not \"int\") to str"
          ]
        }
      ]
    },
    {
      "cell_type": "markdown",
      "metadata": {
        "id": "nWNXAxoZPjQS"
      },
      "source": [
        "# Operadores Aritméticos"
      ]
    },
    {
      "cell_type": "code",
      "metadata": {
        "colab": {
          "base_uri": "https://localhost:8080/"
        },
        "id": "lv7CQx87Pssf",
        "outputId": "2d44799b-d65a-467a-fabb-b4f4ebeca7c4"
      },
      "source": [
        "# Operação entre int e float"
      ],
      "execution_count": 5,
      "outputs": [
        {
          "output_type": "stream",
          "text": [
            "Soma =  12.0\n",
            "Divisão =  5.0\n",
            "mult =  20.0\n"
          ],
          "name": "stdout"
        }
      ]
    },
    {
      "cell_type": "markdown",
      "metadata": {
        "id": "zHGP8-9A6UDG"
      },
      "source": [
        "## Ordem de precedência"
      ]
    },
    {
      "cell_type": "code",
      "metadata": {
        "colab": {
          "base_uri": "https://localhost:8080/"
        },
        "id": "sKvpc7MBQbDC",
        "outputId": "43debd0b-15f5-4286-98fa-9937089c4659"
      },
      "source": [
        "# Ordem de precedência da exponenciação é maior que da soma\n",
        "expressao1 = 1 + 5 ** 2\n",
        "expressao2 = (1 + 5) ** 2\n",
        "\n",
        "print('Resultado sem parênteses = ', expressao1)\n",
        "print('Resultado com parênteses = ', expressao2)"
      ],
      "execution_count": null,
      "outputs": [
        {
          "output_type": "stream",
          "text": [
            "Resultado sem parênteses =  26\n",
            "Resultado com parênteses =  36\n"
          ],
          "name": "stdout"
        }
      ]
    },
    {
      "cell_type": "code",
      "metadata": {
        "colab": {
          "base_uri": "https://localhost:8080/"
        },
        "id": "jCist0-4SZ8q",
        "outputId": "c4878f93-4d18-439d-c894-9d1017bb46bc"
      },
      "source": [
        "# Operadores com mesma precedência são executados da esquerda para direita \n",
        "resultado = 3 * 9 / 2 % 2 \n",
        "print('Resultado = ', resultado)"
      ],
      "execution_count": 6,
      "outputs": [
        {
          "output_type": "stream",
          "text": [
            "Resultado =  1.5\n"
          ],
          "name": "stdout"
        }
      ]
    },
    {
      "cell_type": "code",
      "metadata": {
        "colab": {
          "base_uri": "https://localhost:8080/"
        },
        "id": "W0aSqlAMUXVR",
        "outputId": "ec5d29ad-cb2f-44aa-ba7c-467e20fedd41"
      },
      "source": [
        "# Ordem de execução das potências - execução da direita para esquerda\n",
        "expressao1 = 2 ** 1 ** 2\n",
        "expressao2 = (2 ** 1) ** 2\n",
        "\n",
        "print('Resultado sem parênteses = ', expressao1)\n",
        "print('Resultado com parênteses = ', expressao2)"
      ],
      "execution_count": null,
      "outputs": [
        {
          "output_type": "stream",
          "text": [
            "Resultado sem parênteses =  2\n",
            "Resultado com parênteses =  4\n"
          ],
          "name": "stdout"
        }
      ]
    },
    {
      "cell_type": "markdown",
      "metadata": {
        "id": "eLJg6Vg0ZikE"
      },
      "source": [
        "# Operadores Relacionais"
      ]
    },
    {
      "cell_type": "code",
      "metadata": {
        "colab": {
          "base_uri": "https://localhost:8080/"
        },
        "id": "tdT2Ch1HZnoY",
        "outputId": "c61c7ba2-4380-4f5b-b555-c2ec4b0e4f9a"
      },
      "source": [
        "# Exemplos"
      ],
      "execution_count": 9,
      "outputs": [
        {
          "output_type": "stream",
          "text": [
            "5 == 10  False\n",
            "2 < 6  True\n",
            "EXEMPLO != exemplo True\n"
          ],
          "name": "stdout"
        }
      ]
    },
    {
      "cell_type": "code",
      "metadata": {
        "colab": {
          "base_uri": "https://localhost:8080/"
        },
        "id": "KWLAd7tycJle",
        "outputId": "7e1e8c8b-4595-4349-a07f-17370f47b95e"
      },
      "source": [
        "# Operadores aritméticos possuem precedência maior que os operadores relacionais\n",
        "resultado = 2 + 3 > 3 + 1 \n",
        "print('resultado = ', resultado)"
      ],
      "execution_count": null,
      "outputs": [
        {
          "output_type": "stream",
          "text": [
            "resultado =  True\n"
          ],
          "name": "stdout"
        }
      ]
    },
    {
      "cell_type": "markdown",
      "metadata": {
        "id": "8aS9kxW7dloB"
      },
      "source": [
        "# Operadores Lógicos"
      ]
    },
    {
      "cell_type": "code",
      "metadata": {
        "id": "2XhRqTTBdoeZ"
      },
      "source": [
        "# Exemplo 'not'"
      ],
      "execution_count": null,
      "outputs": []
    },
    {
      "cell_type": "code",
      "metadata": {
        "id": "4ME3AGeBe-NJ"
      },
      "source": [
        "# Exemplos 'and'"
      ],
      "execution_count": null,
      "outputs": []
    },
    {
      "cell_type": "code",
      "metadata": {
        "id": "AMjH64Jsfzto"
      },
      "source": [
        "# Exemplo 'or'"
      ],
      "execution_count": null,
      "outputs": []
    },
    {
      "cell_type": "code",
      "metadata": {
        "colab": {
          "base_uri": "https://localhost:8080/"
        },
        "id": "JLcThdaqxfXa",
        "outputId": "790feccf-97f8-405a-d3db-4e9cca795e20"
      },
      "source": [
        "# Operadores relacionais possuem precedência maior que os operadores lógicos\n",
        "z = 2 < 3 and 5 >= 1 \n",
        "print('z = ', z)"
      ],
      "execution_count": 1,
      "outputs": [
        {
          "output_type": "stream",
          "text": [
            "z =  True\n"
          ],
          "name": "stdout"
        }
      ]
    },
    {
      "cell_type": "markdown",
      "metadata": {
        "id": "oL8BUrxdCT95"
      },
      "source": [
        "# Exercícios"
      ]
    },
    {
      "cell_type": "markdown",
      "metadata": {
        "id": "VtbqxiJZCYo1"
      },
      "source": [
        "## Exercício 1\n",
        "\n",
        "Crie uma varíavel do tipo float que armazene o valor da temperatura em graus Celsius de Santa Rita do Sapucaí. Faça um programa que converta a temperatura para Fahrenheit e imprima o resultado.\n",
        "\n",
        "A fórmula de conversão é dada por: \\\n",
        ">$F = \\frac{9}{5}C + 32$\n",
        "\n",
        "\n"
      ]
    },
    {
      "cell_type": "code",
      "metadata": {
        "id": "rDEous0ZCWhW"
      },
      "source": [
        "# Escreva sua solução aqui."
      ],
      "execution_count": null,
      "outputs": []
    },
    {
      "cell_type": "markdown",
      "metadata": {
        "id": "CA8SIDjY7LJp"
      },
      "source": [
        "### SOLUÇÃO"
      ]
    },
    {
      "cell_type": "code",
      "metadata": {
        "id": "dbwzUGLz7QlX",
        "colab": {
          "base_uri": "https://localhost:8080/"
        },
        "outputId": "c5595251-1cb3-447b-9831-f231d6a1b77c"
      },
      "source": [
        "C = 14.5 # Temperatura em graus Celsius\n",
        "\n",
        "# Conversão de Celsius para Fahrenheit\n",
        "F = 9*C/5 + 32\n",
        "\n",
        "print(\"A temperatura em Santa Rita do Sapucaí é \", F, \"°F\")"
      ],
      "execution_count": null,
      "outputs": [
        {
          "output_type": "stream",
          "text": [
            "A temperatura em Santa Rita do Sapucaí é  58.1 °F\n"
          ],
          "name": "stdout"
        }
      ]
    },
    {
      "cell_type": "markdown",
      "metadata": {
        "id": "ZVRrfJpjVVBd"
      },
      "source": [
        "## Exercício 2\n",
        "Sabe-se que A, B, C e D possuem valores iguais a 2.5, 10, 4 e <font color='blue'>True</font>, respectivamente. Imprima o valor da seguinte expressão:\n",
        "\n",
        "> B == A*C e (D ou <font color='blue'>False</font>)\n",
        "\n"
      ]
    },
    {
      "cell_type": "code",
      "metadata": {
        "id": "gai-_xRMVZ6D"
      },
      "source": [
        "# Escreva sua solução aqui."
      ],
      "execution_count": null,
      "outputs": []
    },
    {
      "cell_type": "markdown",
      "metadata": {
        "id": "e-zB0z15MwOI"
      },
      "source": [
        "### Solução"
      ]
    },
    {
      "cell_type": "code",
      "metadata": {
        "colab": {
          "base_uri": "https://localhost:8080/"
        },
        "id": "5XCDnVrZMyT2",
        "outputId": "c9646f08-95bf-4152-98bf-9d23091eb367"
      },
      "source": [
        "# Declarando as variáveis\n",
        "A = 2.5\n",
        "B = 10\n",
        "C = 4\n",
        "D = True\n",
        "\n",
        "# Reultado da expressão\n",
        "print('Resultado = ', B == A*C and (D or False))"
      ],
      "execution_count": null,
      "outputs": [
        {
          "output_type": "stream",
          "text": [
            "Resultado =  True\n"
          ],
          "name": "stdout"
        }
      ]
    },
    {
      "cell_type": "markdown",
      "metadata": {
        "id": "c28gTElRG5ER"
      },
      "source": [
        "## Exercício 3\n",
        "\n",
        "Dada a seguinte expressão do segundo grau:\n",
        "\n",
        "\n",
        "> $-3x^2 + 18x -15 = 0$\n",
        "\n",
        "faça um programa para encontrar suas raízes.\n"
      ]
    },
    {
      "cell_type": "code",
      "metadata": {
        "id": "-h0kuv7XG17b"
      },
      "source": [
        "# Escreva sua solução aqui."
      ],
      "execution_count": null,
      "outputs": []
    },
    {
      "cell_type": "markdown",
      "metadata": {
        "id": "u1axL9rIKxBy"
      },
      "source": [
        "### Solução"
      ]
    },
    {
      "cell_type": "code",
      "metadata": {
        "colab": {
          "base_uri": "https://localhost:8080/"
        },
        "id": "f7TM19qdKz5M",
        "outputId": "96c26850-3f67-451b-9597-7b4eac72f6ae"
      },
      "source": [
        "# Parâmetros da função\n",
        "# ax**2 + bx + c = 0\n",
        "a = -3\n",
        "b = 18\n",
        "c = -15\n",
        "\n",
        "# Cálculo do delta\n",
        "delta = b**2 -4*a*c\n",
        "\n",
        "# Encontrando as raízes\n",
        "x1 = (-b + delta**(1/2))/(2*a)\n",
        "x2 = (-b - delta**(1/2))/(2*a)\n",
        "\n",
        "# Imprime o resultado\n",
        "print('x1 = ', x1)\n",
        "print('x2 = ', x2)"
      ],
      "execution_count": null,
      "outputs": [
        {
          "output_type": "stream",
          "text": [
            "x1 =  1.0\n",
            "x2 =  5.0\n"
          ],
          "name": "stdout"
        }
      ]
    }
  ]
}