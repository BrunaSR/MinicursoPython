{
  "nbformat": 4,
  "nbformat_minor": 0,
  "metadata": {
    "colab": {
      "name": "ParteIII.ipynb",
      "provenance": [],
      "collapsed_sections": [
        "eyxLNahp3IkR"
      ],
      "authorship_tag": "ABX9TyMiqIbUl14tOxeQM8RLelt6",
      "include_colab_link": true
    },
    "kernelspec": {
      "name": "python3",
      "display_name": "Python 3"
    },
    "language_info": {
      "name": "python"
    }
  },
  "cells": [
    {
      "cell_type": "markdown",
      "metadata": {
        "id": "view-in-github",
        "colab_type": "text"
      },
      "source": [
        "<a href=\"https://colab.research.google.com/github/BrunaSR/MinicursoPython/blob/main/Notebooks/ParteIII.ipynb\" target=\"_parent\"><img src=\"https://colab.research.google.com/assets/colab-badge.svg\" alt=\"Open In Colab\"/></a>"
      ]
    },
    {
      "cell_type": "markdown",
      "metadata": {
        "id": "gbjeu_BgBkXe"
      },
      "source": [
        "# Minicurso Python - Parte III\n",
        "\n",
        "Os exemplos e exercícios desse notebook se referem aos seguintes tópicos:\n",
        " - Funções \n",
        " - Mensagens de erro"
      ]
    },
    {
      "cell_type": "markdown",
      "metadata": {
        "id": "lvQH7erIGxho"
      },
      "source": [
        "# Funções"
      ]
    },
    {
      "cell_type": "markdown",
      "metadata": {
        "id": "tQ3JTLqbKDAf"
      },
      "source": [
        "## Criando e chamando uma função em Python"
      ]
    },
    {
      "cell_type": "code",
      "metadata": {
        "colab": {
          "base_uri": "https://localhost:8080/"
        },
        "id": "MLZt1VJ5S1yU",
        "outputId": "cdb07028-ee60-447e-ca69-86d88e38d371"
      },
      "source": [
        "# Função sem parâmetro e sem retorno\n",
        "def hello():\n",
        "  \"\"\" Imprime um hello\"\"\"\n",
        "  print('Hello world!')\n",
        "hello()"
      ],
      "execution_count": 3,
      "outputs": [
        {
          "output_type": "stream",
          "text": [
            "Hello world!\n"
          ],
          "name": "stdout"
        }
      ]
    },
    {
      "cell_type": "code",
      "metadata": {
        "id": "isZ5g4FsBig1",
        "colab": {
          "base_uri": "https://localhost:8080/"
        },
        "outputId": "a86213b2-7e9f-4f3f-e6b6-252a2041ae8f"
      },
      "source": [
        "# Exemplo de uma função simples com apenas um argumento\n",
        "def somaUm(x):\n",
        "  \"\"\" Função imprime o valor de x somado a 1\"\"\"\n",
        "  print(x + 1)\n",
        "\n",
        "# Verificando o que a função faz\n",
        "print(somaUm.__doc__)\n",
        "\n",
        "# Chamando a função\n",
        "somaUm(10)"
      ],
      "execution_count": 4,
      "outputs": [
        {
          "output_type": "stream",
          "text": [
            " Função imprime o valor de x somado a 1\n",
            "11\n"
          ],
          "name": "stdout"
        }
      ]
    },
    {
      "cell_type": "code",
      "metadata": {
        "colab": {
          "base_uri": "https://localhost:8080/"
        },
        "id": "3hRV-nbcKWoc",
        "outputId": "157d7cdf-af2b-4531-8735-32c337d23a10"
      },
      "source": [
        "# Função com mais de um parâmetro e retorno\n",
        "def novoSalario(salario, aumento):\n",
        "  \"\"\"Calcula o salário com o aumento fornecido\"\"\"\n",
        "  novo_salario = salario + salario*aumento\n",
        "  return novo_salario\n",
        "\n",
        "meu_salario = novoSalario(2000, 0.1)\n",
        "print('Meu novo salário é igual a R$ ', meu_salario)"
      ],
      "execution_count": 5,
      "outputs": [
        {
          "output_type": "stream",
          "text": [
            "Meu novo salário é igual a R$  2200.0\n"
          ],
          "name": "stdout"
        }
      ]
    },
    {
      "cell_type": "code",
      "metadata": {
        "colab": {
          "base_uri": "https://localhost:8080/"
        },
        "id": "b1X4pR1MTxvN",
        "outputId": "8de997fa-995d-43f7-c815-f6bf85bb8f36"
      },
      "source": [
        "# Chamando a função indicando o nome e o valor do parâmetro\n",
        "meu_salario = novoSalario(salario=1000, aumento=0.2)\n",
        "print('Meu novo salário é igual a R$ ', meu_salario)"
      ],
      "execution_count": 6,
      "outputs": [
        {
          "output_type": "stream",
          "text": [
            "Meu novo salário é igual a R$  1200.0\n"
          ],
          "name": "stdout"
        }
      ]
    },
    {
      "cell_type": "code",
      "metadata": {
        "colab": {
          "base_uri": "https://localhost:8080/"
        },
        "id": "n-ScaQH0Rpnr",
        "outputId": "868c1295-bf59-4fb3-c4cc-09a8349bb66f"
      },
      "source": [
        "# Função retornando mais de um valor\n",
        "def operacoes(x, y):\n",
        "  \"\"\"Retorna a soma, média e o produto entre dois valores\"\"\"\n",
        "  soma = x + y\n",
        "  media = (x + y)/2\n",
        "  produto = x*y\n",
        "\n",
        "  return soma, media, produto\n",
        "\n",
        "soma, media, produto = operacoes(2, 4)\n",
        "print('Soma = ', soma)\n",
        "print('Média = ', media)\n",
        "print('Produto = ', produto)"
      ],
      "execution_count": null,
      "outputs": [
        {
          "output_type": "stream",
          "text": [
            "Soma =  6\n",
            "Média =  3.0\n",
            "Produto =  8\n"
          ],
          "name": "stdout"
        }
      ]
    },
    {
      "cell_type": "code",
      "metadata": {
        "colab": {
          "base_uri": "https://localhost:8080/"
        },
        "id": "Z9gl54jZONf3",
        "outputId": "4d9024ac-0e80-46c4-95fa-bcc151ffb86b"
      },
      "source": [
        "# Definindo parâmetros com valores padrão/default\n",
        "def potenciacao(base, expoente=2):\n",
        "  \"\"\"Realiza a operação de potência\"\"\"\n",
        "  return base**expoente\n",
        "\n",
        "print('Resultado com apenas 1 parâmetro definido = ', potenciacao(4))\n",
        "print('Resultado com os dois parâmetros definidos = ', potenciacao(4, 3))"
      ],
      "execution_count": null,
      "outputs": [
        {
          "output_type": "stream",
          "text": [
            "Resultado 1 =  16\n",
            "Resultado 2 =  64\n"
          ],
          "name": "stdout"
        }
      ]
    },
    {
      "cell_type": "code",
      "metadata": {
        "colab": {
          "base_uri": "https://localhost:8080/"
        },
        "id": "a4K0LfHXQszv",
        "outputId": "a1a09754-b6ff-4010-ffbf-5a0d0c6f9a9d"
      },
      "source": [
        "# Uma função com a quantidade de argumentos indefinida\n",
        "def programadores(*nomes):\n",
        "  \"\"\"Imprime o valor dos parâmetros passados à função\"\"\"\n",
        "  print(\"O nome dos programadores são: \", nomes)\n",
        "  print(\"O último programador é: \", nomes[-1])\n",
        "\n",
        "# Chamando a função com 3 argumentos\n",
        "print('Função com 3 argumentos')\n",
        "programadores('Marcos', 'Ana', 'Priscila')\n",
        "\n",
        "# Chamando a função com 2 argumentos\n",
        "print('\\nFunção com 2 argumentos')\n",
        "programadores('Pedro', 'Rafael')"
      ],
      "execution_count": 7,
      "outputs": [
        {
          "output_type": "stream",
          "text": [
            "Função com 3 argumentos\n",
            "O nome dos programadores são:  ('Marcos', 'Ana', 'Priscila')\n",
            "O último programador é:  Priscila\n",
            "\n",
            "Função com 2 argumentos\n",
            "O nome dos programadores são:  ('Pedro', 'Rafael')\n",
            "O último programador é:  Rafael\n"
          ],
          "name": "stdout"
        }
      ]
    },
    {
      "cell_type": "markdown",
      "metadata": {
        "id": "ZFnPALB5zbHX"
      },
      "source": [
        "### Recursão"
      ]
    },
    {
      "cell_type": "code",
      "metadata": {
        "colab": {
          "base_uri": "https://localhost:8080/"
        },
        "id": "4XUwlReBzdnu",
        "outputId": "89d3cd9d-fdc4-4356-e003-91ee0ab937fe"
      },
      "source": [
        "# Exemplo de uma função recursiva\n",
        "def fatorial(n):\n",
        "  if n == 0:\n",
        "    return 1\n",
        "  else:\n",
        "    return n*fatorial(n-1)\n",
        "\n",
        "a = 6\n",
        "print(f'{a}! = ', fatorial(a))"
      ],
      "execution_count": null,
      "outputs": [
        {
          "output_type": "stream",
          "text": [
            "6! =  720\n"
          ],
          "name": "stdout"
        }
      ]
    },
    {
      "cell_type": "markdown",
      "metadata": {
        "id": "1Rag9LtSgGzO"
      },
      "source": [
        "### Funções built-in"
      ]
    },
    {
      "cell_type": "code",
      "metadata": {
        "colab": {
          "base_uri": "https://localhost:8080/"
        },
        "id": "Fn1XmgzwgJwH",
        "outputId": "127f0226-6ae6-4826-c717-c2e90d128b34"
      },
      "source": [
        "# Imprimir informações\n",
        "print('Mensagem de texto simples!')\n",
        "\n",
        "n = 2.4562214651\n",
        "print(f'\\nImprimindo uma variával = {n}')\n",
        "\n",
        "print('Imprimindo essa variável formatada = {:.2f}'.format(n))"
      ],
      "execution_count": 8,
      "outputs": [
        {
          "output_type": "stream",
          "text": [
            "Mensagem de texto simples!\n",
            "Imprimindo uma variával = 2.4562214651\n",
            "Imprimindo essa variável formatada = 2.46\n"
          ],
          "name": "stdout"
        }
      ]
    },
    {
      "cell_type": "code",
      "metadata": {
        "colab": {
          "base_uri": "https://localhost:8080/"
        },
        "id": "ocraw5zJv-1O",
        "outputId": "f1bfeea3-a88f-4f8d-a6f1-be8813d162f6"
      },
      "source": [
        "# Valor máximo de uma coleçao de dados\n",
        "print(\"Valor máximo da minha lista = \", max([1, 2, 6, 9]))"
      ],
      "execution_count": 9,
      "outputs": [
        {
          "output_type": "stream",
          "text": [
            "Valor máximo da minha lista =  9\n"
          ],
          "name": "stdout"
        }
      ]
    },
    {
      "cell_type": "markdown",
      "metadata": {
        "id": "KOxTbtdm1ZvM"
      },
      "source": [
        "## Bibliotecas"
      ]
    },
    {
      "cell_type": "code",
      "metadata": {
        "colab": {
          "base_uri": "https://localhost:8080/"
        },
        "id": "IuYXM9Qp1e01",
        "outputId": "84cb7094-e254-4326-8010-55e4a02f5fb7"
      },
      "source": [
        "# Como importar funções de uma biblioteca\n",
        "#from math import *\n",
        "import math\n",
        "\n",
        "print(\"Raiz quadrada de 4 = \", math.sqrt(4))"
      ],
      "execution_count": 23,
      "outputs": [
        {
          "output_type": "stream",
          "text": [
            "Raiz quadrada de 4 =  2.0\n"
          ],
          "name": "stdout"
        }
      ]
    },
    {
      "cell_type": "code",
      "metadata": {
        "colab": {
          "base_uri": "https://localhost:8080/"
        },
        "id": "uuP9yv--14nu",
        "outputId": "1c18fd02-1846-4608-be83-161092aa376c"
      },
      "source": [
        "# Importação de algumas funções\n",
        "from math import pow, factorial\n",
        "\n",
        "print(\"2 ** 10 = \", pow(2, 10))\n",
        "print(\" 3! = \", factorial(3))"
      ],
      "execution_count": 25,
      "outputs": [
        {
          "output_type": "stream",
          "text": [
            "2 ** 10 =  1024.0\n",
            " 3! =  6\n"
          ],
          "name": "stdout"
        }
      ]
    },
    {
      "cell_type": "markdown",
      "metadata": {
        "id": "eyxLNahp3IkR"
      },
      "source": [
        "# Mensagens de erro"
      ]
    },
    {
      "cell_type": "code",
      "metadata": {
        "colab": {
          "base_uri": "https://localhost:8080/"
        },
        "id": "WYARtsdD3QCm",
        "outputId": "c97d22f1-ba2b-4285-bc04-ba531eae99af"
      },
      "source": [
        "# Erro de sintaxe\n",
        "print('Exemplo erro de sintaxe)"
      ],
      "execution_count": null,
      "outputs": [
        {
          "output_type": "error",
          "ename": "SyntaxError",
          "evalue": "ignored",
          "traceback": [
            "\u001b[0;36m  File \u001b[0;32m\"<ipython-input-35-58e6e5809fee>\"\u001b[0;36m, line \u001b[0;32m1\u001b[0m\n\u001b[0;31m    print('Exemplo erro de sintaxe)\u001b[0m\n\u001b[0m                                   ^\u001b[0m\n\u001b[0;31mSyntaxError\u001b[0m\u001b[0;31m:\u001b[0m EOL while scanning string literal\n"
          ]
        }
      ]
    },
    {
      "cell_type": "code",
      "metadata": {
        "colab": {
          "base_uri": "https://localhost:8080/"
        },
        "id": "5CsxNpbs5QBS",
        "outputId": "bf68a6b2-ff73-448f-ef66-f99c905714fd"
      },
      "source": [
        "# Erro divisão por zero\n",
        "print(10 / (2%2))"
      ],
      "execution_count": null,
      "outputs": [
        {
          "output_type": "error",
          "ename": "ZeroDivisionError",
          "evalue": "ignored",
          "traceback": [
            "\u001b[0;31m---------------------------------------------------------------------------\u001b[0m",
            "\u001b[0;31mZeroDivisionError\u001b[0m                         Traceback (most recent call last)",
            "\u001b[0;32m<ipython-input-39-c169372e5c7a>\u001b[0m in \u001b[0;36m<module>\u001b[0;34m()\u001b[0m\n\u001b[0;32m----> 1\u001b[0;31m \u001b[0mprint\u001b[0m\u001b[0;34m(\u001b[0m\u001b[0;36m10\u001b[0m \u001b[0;34m/\u001b[0m \u001b[0;34m(\u001b[0m\u001b[0;36m2\u001b[0m\u001b[0;34m%\u001b[0m\u001b[0;36m2\u001b[0m\u001b[0;34m)\u001b[0m\u001b[0;34m)\u001b[0m\u001b[0;34m\u001b[0m\u001b[0;34m\u001b[0m\u001b[0m\n\u001b[0m",
            "\u001b[0;31mZeroDivisionError\u001b[0m: division by zero"
          ]
        }
      ]
    },
    {
      "cell_type": "code",
      "metadata": {
        "colab": {
          "base_uri": "https://localhost:8080/"
        },
        "id": "d7B-PmZp3VJF",
        "outputId": "7ab6fb71-45db-4497-cbd7-a96d4eed1860"
      },
      "source": [
        "# Erro de tipo de dado\n",
        "a = '10'\n",
        "b = 10\n",
        "\n",
        "soma = a + b"
      ],
      "execution_count": null,
      "outputs": [
        {
          "output_type": "error",
          "ename": "TypeError",
          "evalue": "ignored",
          "traceback": [
            "\u001b[0;31m---------------------------------------------------------------------------\u001b[0m",
            "\u001b[0;31mTypeError\u001b[0m                                 Traceback (most recent call last)",
            "\u001b[0;32m<ipython-input-36-17c1c1478836>\u001b[0m in \u001b[0;36m<module>\u001b[0;34m()\u001b[0m\n\u001b[1;32m      2\u001b[0m \u001b[0mb\u001b[0m \u001b[0;34m=\u001b[0m \u001b[0;36m10\u001b[0m\u001b[0;34m\u001b[0m\u001b[0;34m\u001b[0m\u001b[0m\n\u001b[1;32m      3\u001b[0m \u001b[0;34m\u001b[0m\u001b[0m\n\u001b[0;32m----> 4\u001b[0;31m \u001b[0msoma\u001b[0m \u001b[0;34m=\u001b[0m \u001b[0ma\u001b[0m \u001b[0;34m+\u001b[0m \u001b[0mb\u001b[0m\u001b[0;34m\u001b[0m\u001b[0;34m\u001b[0m\u001b[0m\n\u001b[0m",
            "\u001b[0;31mTypeError\u001b[0m: can only concatenate str (not \"int\") to str"
          ]
        }
      ]
    },
    {
      "cell_type": "code",
      "metadata": {
        "colab": {
          "base_uri": "https://localhost:8080/"
        },
        "id": "Z8BXK6rN5BiT",
        "outputId": "838a2d73-d91d-43ef-8b45-e1e9d04a0560"
      },
      "source": [
        "# Erro de indentação\n",
        "def soma(a, b):\n",
        "return a + b"
      ],
      "execution_count": null,
      "outputs": [
        {
          "output_type": "error",
          "ename": "IndentationError",
          "evalue": "ignored",
          "traceback": [
            "\u001b[0;36m  File \u001b[0;32m\"<ipython-input-37-042a3ccb7b6e>\"\u001b[0;36m, line \u001b[0;32m2\u001b[0m\n\u001b[0;31m    return a + b\u001b[0m\n\u001b[0m         ^\u001b[0m\n\u001b[0;31mIndentationError\u001b[0m\u001b[0;31m:\u001b[0m expected an indented block\n"
          ]
        }
      ]
    },
    {
      "cell_type": "code",
      "metadata": {
        "colab": {
          "base_uri": "https://localhost:8080/"
        },
        "id": "81dsZtr_5NKI",
        "outputId": "4bfea360-3d9b-4fdd-99c1-69af5536c9fb"
      },
      "source": [
        "# Erro de nome/definição\n",
        "print('Olá ', pessoa)"
      ],
      "execution_count": null,
      "outputs": [
        {
          "output_type": "error",
          "ename": "NameError",
          "evalue": "ignored",
          "traceback": [
            "\u001b[0;31m---------------------------------------------------------------------------\u001b[0m",
            "\u001b[0;31mNameError\u001b[0m                                 Traceback (most recent call last)",
            "\u001b[0;32m<ipython-input-40-e674d0c813b1>\u001b[0m in \u001b[0;36m<module>\u001b[0;34m()\u001b[0m\n\u001b[0;32m----> 1\u001b[0;31m \u001b[0mprint\u001b[0m\u001b[0;34m(\u001b[0m\u001b[0;34m'Olá '\u001b[0m\u001b[0;34m,\u001b[0m \u001b[0mpessoa\u001b[0m\u001b[0;34m)\u001b[0m\u001b[0;34m\u001b[0m\u001b[0;34m\u001b[0m\u001b[0m\n\u001b[0m",
            "\u001b[0;31mNameError\u001b[0m: name 'pessoa' is not defined"
          ]
        }
      ]
    },
    {
      "cell_type": "markdown",
      "metadata": {
        "id": "lCg4uM1JgKYR"
      },
      "source": [
        "# Exercícios"
      ]
    },
    {
      "cell_type": "markdown",
      "metadata": {
        "id": "zNLUdc5AgSfj"
      },
      "source": [
        "## Exercício 1\n",
        "\n",
        "Faça uma função que recebe um número e verifica se o valor é positivo, negativo ou zero. A função deve retornar 1 para valores positivos, -1 para negativos e 'Nulo' para valor 0.\t"
      ]
    },
    {
      "cell_type": "code",
      "metadata": {
        "id": "9N44ifo-gM_8"
      },
      "source": [
        "# Escreva sua solução aqui."
      ],
      "execution_count": null,
      "outputs": []
    },
    {
      "cell_type": "markdown",
      "metadata": {
        "id": "jueVTaIpw9tX"
      },
      "source": [
        "### Solução"
      ]
    },
    {
      "cell_type": "code",
      "metadata": {
        "colab": {
          "base_uri": "https://localhost:8080/"
        },
        "id": "w7ZY_gGCw_6P",
        "outputId": "8915bf67-656e-4cd6-fd5b-d63cf12dd8f4"
      },
      "source": [
        "def classificaNum(n):\n",
        "  \"\"\" Classifica o número em positivo, negativo ou zero \"\"\"\n",
        "  if n > 0:\n",
        "    return 1\n",
        "  elif n < 0:\n",
        "    return -1\n",
        "  else:\n",
        "    return 'Nulo'\n",
        "\n",
        "classificacao = classificaNum(-7)\n",
        "print(\"Retorno = \", classificacao)"
      ],
      "execution_count": 17,
      "outputs": [
        {
          "output_type": "stream",
          "text": [
            "Retorno =  -1\n"
          ],
          "name": "stdout"
        }
      ]
    },
    {
      "cell_type": "markdown",
      "metadata": {
        "id": "ndMNgkpokvaJ"
      },
      "source": [
        "## Exercício 2\n",
        "Escreva\tuma\tfunção\tque\tcalcule e\tretorne a\tdistância\tentre\tdois pontos (x1, y1) e (x2, y2). As coordenadas de um ponto devem ser armazenadas em uma tupla."
      ]
    },
    {
      "cell_type": "code",
      "metadata": {
        "id": "GphLbbDinIoK"
      },
      "source": [
        "# Escreva sua solução aqui."
      ],
      "execution_count": null,
      "outputs": []
    },
    {
      "cell_type": "markdown",
      "metadata": {
        "id": "kiXKu9VKycxF"
      },
      "source": [
        "### Solução"
      ]
    },
    {
      "cell_type": "code",
      "metadata": {
        "colab": {
          "base_uri": "https://localhost:8080/"
        },
        "id": "JZXr1W64yeXm",
        "outputId": "7d5a1fb3-2e66-45d6-e201-c2e3cd95384d"
      },
      "source": [
        "from math import sqrt\n",
        "def distancia(ponto1, ponto2):\n",
        "  # Coordenadas\n",
        "  x1 = ponto1[0]\n",
        "  y1 = ponto1[1]\n",
        "\n",
        "  x2 = ponto2[0]\n",
        "  y2 = ponto2[1]\n",
        "\n",
        "  # Calculo da distância\n",
        "  dist = sqrt((x2 - x1)**2 + (y2 - y1)**2)\n",
        "\n",
        "  return dist\n",
        "\n",
        "# Definindo um ponto\n",
        "ponto1 = (2, 0)\n",
        "ponto2 = (2, -3)\n",
        "\n",
        "print(f\"A distância entre os pontos {ponto1} e {ponto2} é igual a {distancia(ponto1, ponto2)}\")"
      ],
      "execution_count": 19,
      "outputs": [
        {
          "output_type": "stream",
          "text": [
            "A distância entre os pontos (2, 0) e (2, -3) é igual a 3.0\n"
          ],
          "name": "stdout"
        }
      ]
    },
    {
      "cell_type": "markdown",
      "metadata": {
        "id": "7AdMDhXKsLHR"
      },
      "source": [
        "## Exercício 3\n",
        "A padaria Sópão vende diariamente uma certa quantidade de pães franceses e uma quantidade de broas. Cada pãozinho custa 0,80 e a broa custa 2,50. Do total arrecadado, 43% corresponde aos custos de fabricação, 15% Seu João guarda numa conta de poupança e 15% ele converte em Euros para sua viagem Anual. Sabe-se que 1 Euro custa R$ 6.00. Com base nestes fatos, faça uma função que recebe as quantidades de pães e de broas, e retorna a venda total de cada produto, o custo de fabricação, quanto irá guardar na poupança e quantos euros irá comprar. "
      ]
    },
    {
      "cell_type": "code",
      "metadata": {
        "id": "PKCy-wwGsNS2"
      },
      "source": [
        "# Escreva sua solução aqui."
      ],
      "execution_count": null,
      "outputs": []
    },
    {
      "cell_type": "markdown",
      "metadata": {
        "id": "u8P9-Nhf0xLS"
      },
      "source": [
        "### Solução"
      ]
    },
    {
      "cell_type": "code",
      "metadata": {
        "colab": {
          "base_uri": "https://localhost:8080/"
        },
        "id": "tah2gL8p0y94",
        "outputId": "fafe1efd-e2c6-4133-f455-6bf6f7e56f06"
      },
      "source": [
        "def padariaSopao(n_pao, n_broa):\n",
        "  # Cálculo da venda total\n",
        "  total_paes = n_pao*0.8 \n",
        "  total_broa = n_broa*2.5\n",
        "  total_vendido = total_paes + total_broa\n",
        "\n",
        "  # Custo de frabricação\n",
        "  custo_fabr = total_vendido*0.43\n",
        "\n",
        "  # Valor a ser guardado na poupança\n",
        "  poupanca = total_vendido*0.15\n",
        "\n",
        "  # Quantidade de euros\n",
        "  euros = total_vendido*0.15 / 6.0\n",
        "\n",
        "  return total_paes, total_broa, custo_fabr, poupanca, euros\n",
        "\n",
        "\n",
        "paes, broas, custo, poupanca, euros = padariaSopao(100, 10)\n",
        "print(\"Venda total de pães = R$\", paes)\n",
        "print(\"Venda total de broas = R$\", broas)\n",
        "print(\"Custo total = R$\", custo)\n",
        "print(\"Quantia poupança = R$\", poupanca)\n",
        "print(\"Total de euros = R$\", euros)"
      ],
      "execution_count": 29,
      "outputs": [
        {
          "output_type": "stream",
          "text": [
            "Venda total de pães = R$ 80.0\n",
            "Venda total de broas = R$ 25.0\n",
            "Custo total = R$ 45.15\n",
            "Quantia poupança = R$ 15.75\n",
            "Total de euros = R$ 2.625\n"
          ],
          "name": "stdout"
        }
      ]
    },
    {
      "cell_type": "markdown",
      "metadata": {
        "id": "skjxATKF9Gii"
      },
      "source": [
        "## Exercício 4\n",
        "Identifique os erros e corrija.\n"
      ]
    },
    {
      "cell_type": "code",
      "metadata": {
        "colab": {
          "base_uri": "https://localhost:8080/",
          "height": 203
        },
        "id": "FgNeDHcc9JV4",
        "outputId": "1e2a7cfc-c8f4-489d-8706-b4fe327d9130"
      },
      "source": [
        "# Erro 1\n",
        "def subtracao(num1, num2):\n",
        "  return num2 - num1\n",
        "\n",
        "num1 = 1\n",
        "print(subtracao(num1, num2))"
      ],
      "execution_count": null,
      "outputs": [
        {
          "output_type": "error",
          "ename": "NameError",
          "evalue": "ignored",
          "traceback": [
            "\u001b[0;31m---------------------------------------------------------------------------\u001b[0m",
            "\u001b[0;31mNameError\u001b[0m                                 Traceback (most recent call last)",
            "\u001b[0;32m<ipython-input-49-204111ffe1ae>\u001b[0m in \u001b[0;36m<module>\u001b[0;34m()\u001b[0m\n\u001b[1;32m      3\u001b[0m \u001b[0;34m\u001b[0m\u001b[0m\n\u001b[1;32m      4\u001b[0m \u001b[0mnum1\u001b[0m \u001b[0;34m=\u001b[0m \u001b[0;36m1\u001b[0m\u001b[0;34m\u001b[0m\u001b[0;34m\u001b[0m\u001b[0m\n\u001b[0;32m----> 5\u001b[0;31m \u001b[0mprint\u001b[0m\u001b[0;34m(\u001b[0m\u001b[0msubtracao\u001b[0m\u001b[0;34m(\u001b[0m\u001b[0mnum1\u001b[0m\u001b[0;34m,\u001b[0m \u001b[0mnum2\u001b[0m\u001b[0;34m)\u001b[0m\u001b[0;34m)\u001b[0m\u001b[0;34m\u001b[0m\u001b[0;34m\u001b[0m\u001b[0m\n\u001b[0m",
            "\u001b[0;31mNameError\u001b[0m: name 'num2' is not defined"
          ]
        }
      ]
    },
    {
      "cell_type": "code",
      "metadata": {
        "colab": {
          "base_uri": "https://localhost:8080/",
          "height": 132
        },
        "id": "VTuzPvGm-jVp",
        "outputId": "3bf80a6e-b38f-4481-86cb-8048ec0d76bf"
      },
      "source": [
        "# Erro 2\n",
        "temperatura = 100\n",
        "\n",
        "if temperatura > 220:\n",
        "  print('Alta temperatura')\n",
        "else if temperatura > 100:\n",
        "  print('Temperatura média')\n",
        "else:\n",
        "  print('Temperatura baixa')"
      ],
      "execution_count": null,
      "outputs": [
        {
          "output_type": "error",
          "ename": "SyntaxError",
          "evalue": "ignored",
          "traceback": [
            "\u001b[0;36m  File \u001b[0;32m\"<ipython-input-50-15490531e01c>\"\u001b[0;36m, line \u001b[0;32m6\u001b[0m\n\u001b[0;31m    else if temperatura > 100:\u001b[0m\n\u001b[0m          ^\u001b[0m\n\u001b[0;31mSyntaxError\u001b[0m\u001b[0;31m:\u001b[0m invalid syntax\n"
          ]
        }
      ]
    },
    {
      "cell_type": "markdown",
      "metadata": {
        "id": "JkWs4mo835JX"
      },
      "source": [
        "### Solução"
      ]
    },
    {
      "cell_type": "code",
      "metadata": {
        "colab": {
          "base_uri": "https://localhost:8080/"
        },
        "id": "_MP9XAf238m-",
        "outputId": "a74944a7-127d-4618-9e1d-9180b410a1ea"
      },
      "source": [
        "# Erro 1\n",
        "def subtracao(num1, num2):\n",
        "  return num2 - num1\n",
        "\n",
        "num1 = 1\n",
        "num2 = 2 # Declaração de num2\n",
        "print(subtracao(num1, num2))"
      ],
      "execution_count": 26,
      "outputs": [
        {
          "output_type": "stream",
          "text": [
            "1\n"
          ],
          "name": "stdout"
        }
      ]
    },
    {
      "cell_type": "code",
      "metadata": {
        "colab": {
          "base_uri": "https://localhost:8080/"
        },
        "id": "Mjb3P63F4Il5",
        "outputId": "b095aff6-3d8b-49e3-95a7-27bd87ea46e5"
      },
      "source": [
        "# Erro 2\n",
        "temperatura = 100\n",
        "\n",
        "if temperatura > 220:\n",
        "  print('Alta temperatura')\n",
        "# elif ao invés de else if\n",
        "elif temperatura > 100:  \n",
        "  print('Temperatura média')\n",
        "else:\n",
        "  print('Temperatura baixa')"
      ],
      "execution_count": 27,
      "outputs": [
        {
          "output_type": "stream",
          "text": [
            "Temperatura baixa\n"
          ],
          "name": "stdout"
        }
      ]
    }
  ]
}